{
 "cells": [
  {
   "cell_type": "code",
   "execution_count": 1,
   "metadata": {},
   "outputs": [],
   "source": [
    "import pandas as pd\n",
    "import datetime as dt\n",
    "import numpy as np"
   ]
  },
  {
   "cell_type": "code",
   "execution_count": 2,
   "metadata": {},
   "outputs": [],
   "source": [
    "train_df = pd.read_csv('train_aox2Jxw/train.csv')"
   ]
  },
  {
   "cell_type": "code",
   "execution_count": 3,
   "metadata": {},
   "outputs": [],
   "source": [
    "test_df = pd.read_csv('test_bqCt9Pv.csv')"
   ]
  },
  {
   "cell_type": "code",
   "execution_count": 4,
   "metadata": {},
   "outputs": [
    {
     "data": {
      "text/html": [
       "<div>\n",
       "<style scoped>\n",
       "    .dataframe tbody tr th:only-of-type {\n",
       "        vertical-align: middle;\n",
       "    }\n",
       "\n",
       "    .dataframe tbody tr th {\n",
       "        vertical-align: top;\n",
       "    }\n",
       "\n",
       "    .dataframe thead th {\n",
       "        text-align: right;\n",
       "    }\n",
       "</style>\n",
       "<table border=\"1\" class=\"dataframe\">\n",
       "  <thead>\n",
       "    <tr style=\"text-align: right;\">\n",
       "      <th></th>\n",
       "      <th>UniqueID</th>\n",
       "      <th>disbursed_amount</th>\n",
       "      <th>asset_cost</th>\n",
       "      <th>ltv</th>\n",
       "      <th>branch_id</th>\n",
       "      <th>supplier_id</th>\n",
       "      <th>manufacturer_id</th>\n",
       "      <th>Current_pincode_ID</th>\n",
       "      <th>Date.of.Birth</th>\n",
       "      <th>Employment.Type</th>\n",
       "      <th>...</th>\n",
       "      <th>SEC.SANCTIONED.AMOUNT</th>\n",
       "      <th>SEC.DISBURSED.AMOUNT</th>\n",
       "      <th>PRIMARY.INSTAL.AMT</th>\n",
       "      <th>SEC.INSTAL.AMT</th>\n",
       "      <th>NEW.ACCTS.IN.LAST.SIX.MONTHS</th>\n",
       "      <th>DELINQUENT.ACCTS.IN.LAST.SIX.MONTHS</th>\n",
       "      <th>AVERAGE.ACCT.AGE</th>\n",
       "      <th>CREDIT.HISTORY.LENGTH</th>\n",
       "      <th>NO.OF_INQUIRIES</th>\n",
       "      <th>loan_default</th>\n",
       "    </tr>\n",
       "  </thead>\n",
       "  <tbody>\n",
       "    <tr>\n",
       "      <th>0</th>\n",
       "      <td>420825</td>\n",
       "      <td>50578</td>\n",
       "      <td>58400</td>\n",
       "      <td>89.55</td>\n",
       "      <td>67</td>\n",
       "      <td>22807</td>\n",
       "      <td>45</td>\n",
       "      <td>1441</td>\n",
       "      <td>01-01-84</td>\n",
       "      <td>Salaried</td>\n",
       "      <td>...</td>\n",
       "      <td>0</td>\n",
       "      <td>0</td>\n",
       "      <td>0</td>\n",
       "      <td>0</td>\n",
       "      <td>0</td>\n",
       "      <td>0</td>\n",
       "      <td>0yrs 0mon</td>\n",
       "      <td>0yrs 0mon</td>\n",
       "      <td>0</td>\n",
       "      <td>0</td>\n",
       "    </tr>\n",
       "    <tr>\n",
       "      <th>1</th>\n",
       "      <td>537409</td>\n",
       "      <td>47145</td>\n",
       "      <td>65550</td>\n",
       "      <td>73.23</td>\n",
       "      <td>67</td>\n",
       "      <td>22807</td>\n",
       "      <td>45</td>\n",
       "      <td>1502</td>\n",
       "      <td>31-07-85</td>\n",
       "      <td>Self employed</td>\n",
       "      <td>...</td>\n",
       "      <td>0</td>\n",
       "      <td>0</td>\n",
       "      <td>1991</td>\n",
       "      <td>0</td>\n",
       "      <td>0</td>\n",
       "      <td>1</td>\n",
       "      <td>1yrs 11mon</td>\n",
       "      <td>1yrs 11mon</td>\n",
       "      <td>0</td>\n",
       "      <td>1</td>\n",
       "    </tr>\n",
       "    <tr>\n",
       "      <th>2</th>\n",
       "      <td>417566</td>\n",
       "      <td>53278</td>\n",
       "      <td>61360</td>\n",
       "      <td>89.63</td>\n",
       "      <td>67</td>\n",
       "      <td>22807</td>\n",
       "      <td>45</td>\n",
       "      <td>1497</td>\n",
       "      <td>24-08-85</td>\n",
       "      <td>Self employed</td>\n",
       "      <td>...</td>\n",
       "      <td>0</td>\n",
       "      <td>0</td>\n",
       "      <td>0</td>\n",
       "      <td>0</td>\n",
       "      <td>0</td>\n",
       "      <td>0</td>\n",
       "      <td>0yrs 0mon</td>\n",
       "      <td>0yrs 0mon</td>\n",
       "      <td>0</td>\n",
       "      <td>0</td>\n",
       "    </tr>\n",
       "    <tr>\n",
       "      <th>3</th>\n",
       "      <td>624493</td>\n",
       "      <td>57513</td>\n",
       "      <td>66113</td>\n",
       "      <td>88.48</td>\n",
       "      <td>67</td>\n",
       "      <td>22807</td>\n",
       "      <td>45</td>\n",
       "      <td>1501</td>\n",
       "      <td>30-12-93</td>\n",
       "      <td>Self employed</td>\n",
       "      <td>...</td>\n",
       "      <td>0</td>\n",
       "      <td>0</td>\n",
       "      <td>31</td>\n",
       "      <td>0</td>\n",
       "      <td>0</td>\n",
       "      <td>0</td>\n",
       "      <td>0yrs 8mon</td>\n",
       "      <td>1yrs 3mon</td>\n",
       "      <td>1</td>\n",
       "      <td>1</td>\n",
       "    </tr>\n",
       "    <tr>\n",
       "      <th>4</th>\n",
       "      <td>539055</td>\n",
       "      <td>52378</td>\n",
       "      <td>60300</td>\n",
       "      <td>88.39</td>\n",
       "      <td>67</td>\n",
       "      <td>22807</td>\n",
       "      <td>45</td>\n",
       "      <td>1495</td>\n",
       "      <td>09-12-77</td>\n",
       "      <td>Self employed</td>\n",
       "      <td>...</td>\n",
       "      <td>0</td>\n",
       "      <td>0</td>\n",
       "      <td>0</td>\n",
       "      <td>0</td>\n",
       "      <td>0</td>\n",
       "      <td>0</td>\n",
       "      <td>0yrs 0mon</td>\n",
       "      <td>0yrs 0mon</td>\n",
       "      <td>1</td>\n",
       "      <td>1</td>\n",
       "    </tr>\n",
       "  </tbody>\n",
       "</table>\n",
       "<p>5 rows × 41 columns</p>\n",
       "</div>"
      ],
      "text/plain": [
       "   UniqueID  disbursed_amount  asset_cost    ltv  branch_id  supplier_id  \\\n",
       "0    420825             50578       58400  89.55         67        22807   \n",
       "1    537409             47145       65550  73.23         67        22807   \n",
       "2    417566             53278       61360  89.63         67        22807   \n",
       "3    624493             57513       66113  88.48         67        22807   \n",
       "4    539055             52378       60300  88.39         67        22807   \n",
       "\n",
       "   manufacturer_id  Current_pincode_ID Date.of.Birth Employment.Type  ...  \\\n",
       "0               45                1441      01-01-84        Salaried  ...   \n",
       "1               45                1502      31-07-85   Self employed  ...   \n",
       "2               45                1497      24-08-85   Self employed  ...   \n",
       "3               45                1501      30-12-93   Self employed  ...   \n",
       "4               45                1495      09-12-77   Self employed  ...   \n",
       "\n",
       "  SEC.SANCTIONED.AMOUNT  SEC.DISBURSED.AMOUNT  PRIMARY.INSTAL.AMT  \\\n",
       "0                     0                     0                   0   \n",
       "1                     0                     0                1991   \n",
       "2                     0                     0                   0   \n",
       "3                     0                     0                  31   \n",
       "4                     0                     0                   0   \n",
       "\n",
       "   SEC.INSTAL.AMT  NEW.ACCTS.IN.LAST.SIX.MONTHS  \\\n",
       "0               0                             0   \n",
       "1               0                             0   \n",
       "2               0                             0   \n",
       "3               0                             0   \n",
       "4               0                             0   \n",
       "\n",
       "   DELINQUENT.ACCTS.IN.LAST.SIX.MONTHS  AVERAGE.ACCT.AGE  \\\n",
       "0                                    0         0yrs 0mon   \n",
       "1                                    1        1yrs 11mon   \n",
       "2                                    0         0yrs 0mon   \n",
       "3                                    0         0yrs 8mon   \n",
       "4                                    0         0yrs 0mon   \n",
       "\n",
       "   CREDIT.HISTORY.LENGTH  NO.OF_INQUIRIES  loan_default  \n",
       "0              0yrs 0mon                0             0  \n",
       "1             1yrs 11mon                0             1  \n",
       "2              0yrs 0mon                0             0  \n",
       "3              1yrs 3mon                1             1  \n",
       "4              0yrs 0mon                1             1  \n",
       "\n",
       "[5 rows x 41 columns]"
      ]
     },
     "execution_count": 4,
     "metadata": {},
     "output_type": "execute_result"
    }
   ],
   "source": [
    "train_df.head()"
   ]
  },
  {
   "cell_type": "code",
   "execution_count": 5,
   "metadata": {},
   "outputs": [
    {
     "data": {
      "text/html": [
       "<div>\n",
       "<style scoped>\n",
       "    .dataframe tbody tr th:only-of-type {\n",
       "        vertical-align: middle;\n",
       "    }\n",
       "\n",
       "    .dataframe tbody tr th {\n",
       "        vertical-align: top;\n",
       "    }\n",
       "\n",
       "    .dataframe thead th {\n",
       "        text-align: right;\n",
       "    }\n",
       "</style>\n",
       "<table border=\"1\" class=\"dataframe\">\n",
       "  <thead>\n",
       "    <tr style=\"text-align: right;\">\n",
       "      <th></th>\n",
       "      <th>UniqueID</th>\n",
       "      <th>disbursed_amount</th>\n",
       "      <th>asset_cost</th>\n",
       "      <th>ltv</th>\n",
       "      <th>branch_id</th>\n",
       "      <th>supplier_id</th>\n",
       "      <th>manufacturer_id</th>\n",
       "      <th>Current_pincode_ID</th>\n",
       "      <th>Date.of.Birth</th>\n",
       "      <th>Employment.Type</th>\n",
       "      <th>...</th>\n",
       "      <th>SEC.CURRENT.BALANCE</th>\n",
       "      <th>SEC.SANCTIONED.AMOUNT</th>\n",
       "      <th>SEC.DISBURSED.AMOUNT</th>\n",
       "      <th>PRIMARY.INSTAL.AMT</th>\n",
       "      <th>SEC.INSTAL.AMT</th>\n",
       "      <th>NEW.ACCTS.IN.LAST.SIX.MONTHS</th>\n",
       "      <th>DELINQUENT.ACCTS.IN.LAST.SIX.MONTHS</th>\n",
       "      <th>AVERAGE.ACCT.AGE</th>\n",
       "      <th>CREDIT.HISTORY.LENGTH</th>\n",
       "      <th>NO.OF_INQUIRIES</th>\n",
       "    </tr>\n",
       "  </thead>\n",
       "  <tbody>\n",
       "    <tr>\n",
       "      <th>0</th>\n",
       "      <td>655269</td>\n",
       "      <td>53478</td>\n",
       "      <td>63558</td>\n",
       "      <td>86.54</td>\n",
       "      <td>67</td>\n",
       "      <td>22807</td>\n",
       "      <td>45</td>\n",
       "      <td>1497</td>\n",
       "      <td>01-01-74</td>\n",
       "      <td>Salaried</td>\n",
       "      <td>...</td>\n",
       "      <td>0</td>\n",
       "      <td>0</td>\n",
       "      <td>0</td>\n",
       "      <td>0</td>\n",
       "      <td>0</td>\n",
       "      <td>0</td>\n",
       "      <td>0</td>\n",
       "      <td>0yrs 0mon</td>\n",
       "      <td>0yrs 0mon</td>\n",
       "      <td>0</td>\n",
       "    </tr>\n",
       "    <tr>\n",
       "      <th>1</th>\n",
       "      <td>723482</td>\n",
       "      <td>55513</td>\n",
       "      <td>63163</td>\n",
       "      <td>89.45</td>\n",
       "      <td>67</td>\n",
       "      <td>22807</td>\n",
       "      <td>45</td>\n",
       "      <td>1497</td>\n",
       "      <td>20-05-85</td>\n",
       "      <td>Self employed</td>\n",
       "      <td>...</td>\n",
       "      <td>0</td>\n",
       "      <td>0</td>\n",
       "      <td>0</td>\n",
       "      <td>5605</td>\n",
       "      <td>0</td>\n",
       "      <td>1</td>\n",
       "      <td>0</td>\n",
       "      <td>0yrs 8mon</td>\n",
       "      <td>1yrs 0mon</td>\n",
       "      <td>1</td>\n",
       "    </tr>\n",
       "    <tr>\n",
       "      <th>2</th>\n",
       "      <td>758529</td>\n",
       "      <td>65282</td>\n",
       "      <td>84320</td>\n",
       "      <td>79.93</td>\n",
       "      <td>78</td>\n",
       "      <td>23135</td>\n",
       "      <td>86</td>\n",
       "      <td>2071</td>\n",
       "      <td>14-10-95</td>\n",
       "      <td>Salaried</td>\n",
       "      <td>...</td>\n",
       "      <td>0</td>\n",
       "      <td>0</td>\n",
       "      <td>0</td>\n",
       "      <td>0</td>\n",
       "      <td>0</td>\n",
       "      <td>0</td>\n",
       "      <td>0</td>\n",
       "      <td>0yrs 0mon</td>\n",
       "      <td>0yrs 0mon</td>\n",
       "      <td>0</td>\n",
       "    </tr>\n",
       "    <tr>\n",
       "      <th>3</th>\n",
       "      <td>763449</td>\n",
       "      <td>46905</td>\n",
       "      <td>63896</td>\n",
       "      <td>76.58</td>\n",
       "      <td>78</td>\n",
       "      <td>17014</td>\n",
       "      <td>45</td>\n",
       "      <td>2070</td>\n",
       "      <td>01-06-73</td>\n",
       "      <td>Self employed</td>\n",
       "      <td>...</td>\n",
       "      <td>0</td>\n",
       "      <td>0</td>\n",
       "      <td>0</td>\n",
       "      <td>0</td>\n",
       "      <td>0</td>\n",
       "      <td>0</td>\n",
       "      <td>0</td>\n",
       "      <td>2yrs 5mon</td>\n",
       "      <td>2yrs 5mon</td>\n",
       "      <td>0</td>\n",
       "    </tr>\n",
       "    <tr>\n",
       "      <th>4</th>\n",
       "      <td>708663</td>\n",
       "      <td>51428</td>\n",
       "      <td>63896</td>\n",
       "      <td>86.08</td>\n",
       "      <td>78</td>\n",
       "      <td>17014</td>\n",
       "      <td>45</td>\n",
       "      <td>2069</td>\n",
       "      <td>01-06-72</td>\n",
       "      <td>Salaried</td>\n",
       "      <td>...</td>\n",
       "      <td>0</td>\n",
       "      <td>0</td>\n",
       "      <td>0</td>\n",
       "      <td>0</td>\n",
       "      <td>0</td>\n",
       "      <td>0</td>\n",
       "      <td>0</td>\n",
       "      <td>0yrs 0mon</td>\n",
       "      <td>0yrs 0mon</td>\n",
       "      <td>0</td>\n",
       "    </tr>\n",
       "  </tbody>\n",
       "</table>\n",
       "<p>5 rows × 40 columns</p>\n",
       "</div>"
      ],
      "text/plain": [
       "   UniqueID  disbursed_amount  asset_cost    ltv  branch_id  supplier_id  \\\n",
       "0    655269             53478       63558  86.54         67        22807   \n",
       "1    723482             55513       63163  89.45         67        22807   \n",
       "2    758529             65282       84320  79.93         78        23135   \n",
       "3    763449             46905       63896  76.58         78        17014   \n",
       "4    708663             51428       63896  86.08         78        17014   \n",
       "\n",
       "   manufacturer_id  Current_pincode_ID Date.of.Birth Employment.Type  ...  \\\n",
       "0               45                1497      01-01-74        Salaried  ...   \n",
       "1               45                1497      20-05-85   Self employed  ...   \n",
       "2               86                2071      14-10-95        Salaried  ...   \n",
       "3               45                2070      01-06-73   Self employed  ...   \n",
       "4               45                2069      01-06-72        Salaried  ...   \n",
       "\n",
       "  SEC.CURRENT.BALANCE  SEC.SANCTIONED.AMOUNT  SEC.DISBURSED.AMOUNT  \\\n",
       "0                   0                      0                     0   \n",
       "1                   0                      0                     0   \n",
       "2                   0                      0                     0   \n",
       "3                   0                      0                     0   \n",
       "4                   0                      0                     0   \n",
       "\n",
       "   PRIMARY.INSTAL.AMT  SEC.INSTAL.AMT  NEW.ACCTS.IN.LAST.SIX.MONTHS  \\\n",
       "0                   0               0                             0   \n",
       "1                5605               0                             1   \n",
       "2                   0               0                             0   \n",
       "3                   0               0                             0   \n",
       "4                   0               0                             0   \n",
       "\n",
       "   DELINQUENT.ACCTS.IN.LAST.SIX.MONTHS  AVERAGE.ACCT.AGE  \\\n",
       "0                                    0         0yrs 0mon   \n",
       "1                                    0         0yrs 8mon   \n",
       "2                                    0         0yrs 0mon   \n",
       "3                                    0         2yrs 5mon   \n",
       "4                                    0         0yrs 0mon   \n",
       "\n",
       "   CREDIT.HISTORY.LENGTH  NO.OF_INQUIRIES  \n",
       "0              0yrs 0mon                0  \n",
       "1              1yrs 0mon                1  \n",
       "2              0yrs 0mon                0  \n",
       "3              2yrs 5mon                0  \n",
       "4              0yrs 0mon                0  \n",
       "\n",
       "[5 rows x 40 columns]"
      ]
     },
     "execution_count": 5,
     "metadata": {},
     "output_type": "execute_result"
    }
   ],
   "source": [
    "test_df.head()"
   ]
  },
  {
   "cell_type": "code",
   "execution_count": 6,
   "metadata": {},
   "outputs": [
    {
     "data": {
      "text/plain": [
       "Index(['UniqueID', 'disbursed_amount', 'asset_cost', 'ltv', 'branch_id',\n",
       "       'supplier_id', 'manufacturer_id', 'Current_pincode_ID', 'Date.of.Birth',\n",
       "       'Employment.Type', 'DisbursalDate', 'State_ID', 'Employee_code_ID',\n",
       "       'MobileNo_Avl_Flag', 'Aadhar_flag', 'PAN_flag', 'VoterID_flag',\n",
       "       'Driving_flag', 'Passport_flag', 'PERFORM_CNS.SCORE',\n",
       "       'PERFORM_CNS.SCORE.DESCRIPTION', 'PRI.NO.OF.ACCTS', 'PRI.ACTIVE.ACCTS',\n",
       "       'PRI.OVERDUE.ACCTS', 'PRI.CURRENT.BALANCE', 'PRI.SANCTIONED.AMOUNT',\n",
       "       'PRI.DISBURSED.AMOUNT', 'SEC.NO.OF.ACCTS', 'SEC.ACTIVE.ACCTS',\n",
       "       'SEC.OVERDUE.ACCTS', 'SEC.CURRENT.BALANCE', 'SEC.SANCTIONED.AMOUNT',\n",
       "       'SEC.DISBURSED.AMOUNT', 'PRIMARY.INSTAL.AMT', 'SEC.INSTAL.AMT',\n",
       "       'NEW.ACCTS.IN.LAST.SIX.MONTHS', 'DELINQUENT.ACCTS.IN.LAST.SIX.MONTHS',\n",
       "       'AVERAGE.ACCT.AGE', 'CREDIT.HISTORY.LENGTH', 'NO.OF_INQUIRIES',\n",
       "       'loan_default'],\n",
       "      dtype='object')"
      ]
     },
     "execution_count": 6,
     "metadata": {},
     "output_type": "execute_result"
    }
   ],
   "source": [
    "train_df.columns"
   ]
  },
  {
   "cell_type": "markdown",
   "metadata": {},
   "source": [
    "### Feature correlation"
   ]
  },
  {
   "cell_type": "code",
   "execution_count": 7,
   "metadata": {},
   "outputs": [
    {
     "data": {
      "text/plain": [
       "<Figure size 2000x2000 with 2 Axes>"
      ]
     },
     "metadata": {},
     "output_type": "display_data"
    }
   ],
   "source": [
    "import matplotlib.pyplot as plt\n",
    "# plt.style.use('ggplot') \n",
    "import seaborn as sns\n",
    "plt.figure(figsize=(20,20))\n",
    "sns.heatmap(train_df.corr(), annot=True, fmt=\".2f\")\n",
    "\n",
    "plt.show()"
   ]
  },
  {
   "cell_type": "code",
   "execution_count": 8,
   "metadata": {},
   "outputs": [],
   "source": [
    "# train_df.isna().sum()"
   ]
  },
  {
   "cell_type": "markdown",
   "metadata": {},
   "source": [
    "### Combine below features and remove"
   ]
  },
  {
   "cell_type": "code",
   "execution_count": 9,
   "metadata": {},
   "outputs": [
    {
     "data": {
      "text/html": [
       "<div>\n",
       "<style scoped>\n",
       "    .dataframe tbody tr th:only-of-type {\n",
       "        vertical-align: middle;\n",
       "    }\n",
       "\n",
       "    .dataframe tbody tr th {\n",
       "        vertical-align: top;\n",
       "    }\n",
       "\n",
       "    .dataframe thead th {\n",
       "        text-align: right;\n",
       "    }\n",
       "</style>\n",
       "<table border=\"1\" class=\"dataframe\">\n",
       "  <thead>\n",
       "    <tr style=\"text-align: right;\">\n",
       "      <th></th>\n",
       "      <th>SEC.SANCTIONED.AMOUNT</th>\n",
       "      <th>SEC.DISBURSED.AMOUNT</th>\n",
       "    </tr>\n",
       "  </thead>\n",
       "  <tbody>\n",
       "    <tr>\n",
       "      <th>SEC.SANCTIONED.AMOUNT</th>\n",
       "      <td>1.000000</td>\n",
       "      <td>0.999646</td>\n",
       "    </tr>\n",
       "    <tr>\n",
       "      <th>SEC.DISBURSED.AMOUNT</th>\n",
       "      <td>0.999646</td>\n",
       "      <td>1.000000</td>\n",
       "    </tr>\n",
       "  </tbody>\n",
       "</table>\n",
       "</div>"
      ],
      "text/plain": [
       "                       SEC.SANCTIONED.AMOUNT  SEC.DISBURSED.AMOUNT\n",
       "SEC.SANCTIONED.AMOUNT               1.000000              0.999646\n",
       "SEC.DISBURSED.AMOUNT                0.999646              1.000000"
      ]
     },
     "execution_count": 9,
     "metadata": {},
     "output_type": "execute_result"
    }
   ],
   "source": [
    "# test_df.isna().sum()\n",
    "train_df[['SEC.SANCTIONED.AMOUNT', 'SEC.DISBURSED.AMOUNT']].corr()"
   ]
  },
  {
   "cell_type": "code",
   "execution_count": 10,
   "metadata": {},
   "outputs": [],
   "source": [
    "train_df['Secondary_amount'] = train_df['SEC.SANCTIONED.AMOUNT'] + train_df['SEC.DISBURSED.AMOUNT']\n",
    "test_df['Secondary_amount'] = test_df['SEC.SANCTIONED.AMOUNT'] + test_df['SEC.DISBURSED.AMOUNT']"
   ]
  },
  {
   "cell_type": "code",
   "execution_count": 11,
   "metadata": {},
   "outputs": [],
   "source": [
    "train_df = train_df.drop(['SEC.SANCTIONED.AMOUNT', 'SEC.DISBURSED.AMOUNT'], axis=1)\n",
    "test_df = test_df.drop(['SEC.SANCTIONED.AMOUNT', 'SEC.DISBURSED.AMOUNT'], axis=1)"
   ]
  },
  {
   "cell_type": "markdown",
   "metadata": {},
   "source": [
    "## Find target variable where sec.instal.amt is more"
   ]
  },
  {
   "cell_type": "code",
   "execution_count": 12,
   "metadata": {},
   "outputs": [
    {
     "data": {
      "text/plain": [
       "loan_default\n",
       "0    1237\n",
       "1     293\n",
       "Name: loan_default, dtype: int64"
      ]
     },
     "execution_count": 12,
     "metadata": {},
     "output_type": "execute_result"
    }
   ],
   "source": [
    "train_df[train_df['SEC.INSTAL.AMT']>train_df['PRIMARY.INSTAL.AMT']].groupby('loan_default')['loan_default'].count()"
   ]
  },
  {
   "cell_type": "code",
   "execution_count": 13,
   "metadata": {},
   "outputs": [
    {
     "data": {
      "text/plain": [
       "loan_default\n",
       "0    57450\n",
       "1    15618\n",
       "Name: loan_default, dtype: int64"
      ]
     },
     "execution_count": 13,
     "metadata": {},
     "output_type": "execute_result"
    }
   ],
   "source": [
    "train_df[train_df['SEC.INSTAL.AMT']<train_df['PRIMARY.INSTAL.AMT']].groupby('loan_default')['loan_default'].count()"
   ]
  },
  {
   "cell_type": "code",
   "execution_count": 14,
   "metadata": {},
   "outputs": [],
   "source": [
    "def is_more(a,b):\n",
    "    if a>b:\n",
    "        return 1\n",
    "    return 0"
   ]
  },
  {
   "cell_type": "code",
   "execution_count": 15,
   "metadata": {},
   "outputs": [],
   "source": [
    "train_df['sec_greater']=train_df.apply(lambda x: is_more(x['SEC.INSTAL.AMT'], x['PRIMARY.INSTAL.AMT']), axis=1)"
   ]
  },
  {
   "cell_type": "code",
   "execution_count": 16,
   "metadata": {},
   "outputs": [],
   "source": [
    "test_df['sec_greater']=test_df.apply(lambda x: is_more(x['SEC.INSTAL.AMT'], x['PRIMARY.INSTAL.AMT']), axis=1)"
   ]
  },
  {
   "cell_type": "code",
   "execution_count": 17,
   "metadata": {},
   "outputs": [
    {
     "data": {
      "text/plain": [
       "array(['Salaried', 'Self employed', nan], dtype=object)"
      ]
     },
     "execution_count": 17,
     "metadata": {},
     "output_type": "execute_result"
    }
   ],
   "source": [
    "train_df['Employment.Type'].unique()"
   ]
  },
  {
   "cell_type": "code",
   "execution_count": 18,
   "metadata": {},
   "outputs": [
    {
     "data": {
      "text/plain": [
       "array(['Salaried', 'Self employed', nan], dtype=object)"
      ]
     },
     "execution_count": 18,
     "metadata": {},
     "output_type": "execute_result"
    }
   ],
   "source": [
    "test_df['Employment.Type'].unique()"
   ]
  },
  {
   "cell_type": "code",
   "execution_count": 19,
   "metadata": {},
   "outputs": [
    {
     "data": {
      "text/plain": [
       "set()"
      ]
     },
     "execution_count": 19,
     "metadata": {},
     "output_type": "execute_result"
    }
   ],
   "source": [
    "set(train_df['UniqueID']).intersection(test_df['UniqueID'])"
   ]
  },
  {
   "cell_type": "code",
   "execution_count": 20,
   "metadata": {},
   "outputs": [
    {
     "data": {
      "text/plain": [
       "set()"
      ]
     },
     "execution_count": 20,
     "metadata": {},
     "output_type": "execute_result"
    }
   ],
   "source": [
    "set(test_df['branch_id'])-set(train_df['branch_id'])"
   ]
  },
  {
   "cell_type": "code",
   "execution_count": 21,
   "metadata": {},
   "outputs": [
    {
     "data": {
      "text/plain": [
       "{155}"
      ]
     },
     "execution_count": 21,
     "metadata": {},
     "output_type": "execute_result"
    }
   ],
   "source": [
    "set(test_df['manufacturer_id'])-set(train_df['manufacturer_id'])"
   ]
  },
  {
   "cell_type": "markdown",
   "metadata": {},
   "source": [
    "### Handling of date columns"
   ]
  },
  {
   "cell_type": "code",
   "execution_count": 22,
   "metadata": {},
   "outputs": [],
   "source": [
    "train_df['Date.of.Birth'] = pd.to_datetime(train_df['Date.of.Birth'])\n",
    "test_df['Date.of.Birth'] = pd.to_datetime(test_df['Date.of.Birth'])"
   ]
  },
  {
   "cell_type": "code",
   "execution_count": 23,
   "metadata": {},
   "outputs": [],
   "source": [
    "train_df['DisbursalDate'] = pd.to_datetime(train_df['DisbursalDate'])\n",
    "test_df['DisbursalDate'] = pd.to_datetime(test_df['DisbursalDate'])"
   ]
  },
  {
   "cell_type": "code",
   "execution_count": 24,
   "metadata": {},
   "outputs": [],
   "source": [
    "# NOW=dt.datetime(2017,12,6)\n",
    "NOW=dt.datetime(2019,3,1)"
   ]
  },
  {
   "cell_type": "code",
   "execution_count": 25,
   "metadata": {},
   "outputs": [],
   "source": [
    "train_df['Date.of.Birth'] = abs(train_df['Date.of.Birth']-NOW).dt.days//365"
   ]
  },
  {
   "cell_type": "code",
   "execution_count": 26,
   "metadata": {},
   "outputs": [],
   "source": [
    "test_df['Date.of.Birth'] = abs(test_df['Date.of.Birth']-NOW).dt.days//365"
   ]
  },
  {
   "cell_type": "code",
   "execution_count": 27,
   "metadata": {},
   "outputs": [],
   "source": [
    "train_df['DisbursalDate'] = abs(train_df['DisbursalDate']-NOW)\n",
    "test_df['DisbursalDate'] = abs(test_df['DisbursalDate']-NOW)"
   ]
  },
  {
   "cell_type": "code",
   "execution_count": 28,
   "metadata": {},
   "outputs": [],
   "source": [
    "train_df['DisbursalDate'] = train_df['DisbursalDate'].dt.days \n",
    "test_df['DisbursalDate'] = test_df['DisbursalDate'].dt.days "
   ]
  },
  {
   "cell_type": "code",
   "execution_count": 29,
   "metadata": {},
   "outputs": [],
   "source": [
    "def con(xx):\n",
    "    #  convert date month to int\n",
    "    xx = xx.split()\n",
    "    yr = xx[0].replace('yrs','')\n",
    "    \n",
    "    mn = xx[1].replace('mon','')\n",
    "    return int(yr)*365+int(mn)*30"
   ]
  },
  {
   "cell_type": "code",
   "execution_count": 30,
   "metadata": {},
   "outputs": [],
   "source": [
    "train_df['AVERAGE.ACCT.AGE'] = train_df['AVERAGE.ACCT.AGE'].apply(lambda x: con(x))\n",
    "train_df['CREDIT.HISTORY.LENGTH'] = train_df['CREDIT.HISTORY.LENGTH'].apply(lambda x: con(x))"
   ]
  },
  {
   "cell_type": "code",
   "execution_count": 31,
   "metadata": {},
   "outputs": [],
   "source": [
    "test_df['AVERAGE.ACCT.AGE'] = test_df['AVERAGE.ACCT.AGE'].apply(lambda x: con(x))\n",
    "test_df['CREDIT.HISTORY.LENGTH'] = test_df['CREDIT.HISTORY.LENGTH'].apply(lambda x: con(x))"
   ]
  },
  {
   "cell_type": "code",
   "execution_count": 32,
   "metadata": {},
   "outputs": [],
   "source": [
    "train_df.fillna(-999, inplace=True)\n",
    "test_df.fillna(-999, inplace=True)"
   ]
  },
  {
   "cell_type": "markdown",
   "metadata": {},
   "source": [
    "### Remove highly collinear features"
   ]
  },
  {
   "cell_type": "code",
   "execution_count": 33,
   "metadata": {},
   "outputs": [],
   "source": [
    "train_df['combined_flag'] = train_df['Aadhar_flag']+train_df['PAN_flag']+train_df['VoterID_flag']+train_df['Driving_flag']+train_df['Passport_flag']\n",
    "test_df['combined_flag'] = test_df['Aadhar_flag']+test_df['PAN_flag']+test_df['VoterID_flag']+test_df['Driving_flag']+test_df['Passport_flag']"
   ]
  },
  {
   "cell_type": "code",
   "execution_count": 34,
   "metadata": {},
   "outputs": [],
   "source": [
    "train_df = train_df.drop(['MobileNo_Avl_Flag', 'Aadhar_flag', 'PAN_flag', 'VoterID_flag', 'Driving_flag', 'Passport_flag'], axis=1)\n",
    "test_df = test_df.drop(['MobileNo_Avl_Flag', 'Aadhar_flag', 'PAN_flag', 'VoterID_flag', 'Driving_flag', 'Passport_flag'], axis=1)"
   ]
  },
  {
   "cell_type": "markdown",
   "metadata": {},
   "source": [
    "### Remove outlier based on 2 columns in training data set"
   ]
  },
  {
   "cell_type": "code",
   "execution_count": 35,
   "metadata": {},
   "outputs": [],
   "source": [
    "from scipy import stats\n",
    "z = np.abs(stats.zscore(train_df['ltv']))\n",
    "# z1 = np.abs(stats.zscore(train_df['asset_cost']))"
   ]
  },
  {
   "cell_type": "code",
   "execution_count": 37,
   "metadata": {},
   "outputs": [],
   "source": [
    "train_df = train_df[(z<3)]"
   ]
  },
  {
   "cell_type": "code",
   "execution_count": 38,
   "metadata": {},
   "outputs": [],
   "source": [
    "train_df = train_df[['UniqueID','Current_pincode_ID', 'ltv','DisbursalDate','PERFORM_CNS.SCORE','supplier_id', 'disbursed_amount','Date.of.Birth','branch_id','State_ID',\n",
    "'CREDIT.HISTORY.LENGTH','Employee_code_ID', 'PRI.NO.OF.ACCTS','PRIMARY.INSTAL.AMT', 'manufacturer_id','PRI.SANCTIONED.AMOUNT','NO.OF_INQUIRIES',\n",
    "'Employment.Type','AVERAGE.ACCT.AGE','DELINQUENT.ACCTS.IN.LAST.SIX.MONTHS', 'PRI.OVERDUE.ACCTS','asset_cost','PRI.CURRENT.BALANCE',\n",
    "'PRI.ACTIVE.ACCTS',  'PRI.DISBURSED.AMOUNT','NEW.ACCTS.IN.LAST.SIX.MONTHS','loan_default']]\n",
    "test_df = test_df[['UniqueID','Current_pincode_ID', 'ltv','DisbursalDate','PERFORM_CNS.SCORE','supplier_id', 'disbursed_amount','Date.of.Birth','branch_id','State_ID',\n",
    "'CREDIT.HISTORY.LENGTH','Employee_code_ID', 'PRI.NO.OF.ACCTS','PRIMARY.INSTAL.AMT', 'manufacturer_id','PRI.SANCTIONED.AMOUNT','NO.OF_INQUIRIES',\n",
    "'Employment.Type','AVERAGE.ACCT.AGE','DELINQUENT.ACCTS.IN.LAST.SIX.MONTHS', 'PRI.OVERDUE.ACCTS','asset_cost','PRI.CURRENT.BALANCE',\n",
    "'PRI.ACTIVE.ACCTS',  'PRI.DISBURSED.AMOUNT','NEW.ACCTS.IN.LAST.SIX.MONTHS']]"
   ]
  },
  {
   "cell_type": "code",
   "execution_count": 39,
   "metadata": {},
   "outputs": [],
   "source": [
    "train_df.to_csv('train_h2o.csv', index=False)\n",
    "test_df.to_csv('test_h2o.csv', index=False)"
   ]
  },
  {
   "cell_type": "code",
   "execution_count": 154,
   "metadata": {},
   "outputs": [],
   "source": [
    "y = train_df.loan_default\n",
    "X = train_df.drop(['UniqueID','loan_default'], axis=1)\n",
    "test = test_df.drop(['UniqueID'], axis=1)"
   ]
  },
  {
   "cell_type": "markdown",
   "metadata": {},
   "source": [
    "## Split 80-20"
   ]
  },
  {
   "cell_type": "code",
   "execution_count": 181,
   "metadata": {},
   "outputs": [],
   "source": [
    "from sklearn.model_selection import train_test_split\n",
    "X_train, X_validation, y_train, y_validation = train_test_split(X, y, test_size=0.1, random_state=1234)"
   ]
  },
  {
   "cell_type": "markdown",
   "metadata": {},
   "source": [
    "### Categorical features"
   ]
  },
  {
   "cell_type": "code",
   "execution_count": 182,
   "metadata": {},
   "outputs": [],
   "source": [
    "cat_features = ['branch_id', 'supplier_id', 'manufacturer_id', 'State_ID', 'Employee_code_ID', 'Current_pincode_ID','Employment.Type']"
   ]
  },
  {
   "cell_type": "markdown",
   "metadata": {},
   "source": [
    "### Class imbalance ratio"
   ]
  },
  {
   "cell_type": "code",
   "execution_count": 183,
   "metadata": {},
   "outputs": [
    {
     "data": {
      "text/plain": [
       "(228258, 27)"
      ]
     },
     "execution_count": 183,
     "metadata": {},
     "output_type": "execute_result"
    }
   ],
   "source": [
    "train_df.shape"
   ]
  },
  {
   "cell_type": "code",
   "execution_count": 184,
   "metadata": {},
   "outputs": [
    {
     "data": {
      "text/plain": [
       "loan_default\n",
       "0        0\n",
       "1    49495\n",
       "Name: loan_default, dtype: int64"
      ]
     },
     "execution_count": 184,
     "metadata": {},
     "output_type": "execute_result"
    }
   ],
   "source": [
    "train_df.groupby(['loan_default'])['loan_default'].sum()"
   ]
  },
  {
   "cell_type": "code",
   "execution_count": 185,
   "metadata": {},
   "outputs": [],
   "source": [
    "class_imbalance_ratio = (233154-50611)/50611"
   ]
  },
  {
   "cell_type": "code",
   "execution_count": 186,
   "metadata": {},
   "outputs": [
    {
     "data": {
      "text/plain": [
       "3.606785086246073"
      ]
     },
     "execution_count": 186,
     "metadata": {},
     "output_type": "execute_result"
    }
   ],
   "source": [
    "class_imbalance_ratio"
   ]
  },
  {
   "cell_type": "markdown",
   "metadata": {},
   "source": [
    "## Catboost classifier"
   ]
  },
  {
   "cell_type": "code",
   "execution_count": 187,
   "metadata": {},
   "outputs": [
    {
     "name": "stdout",
     "output_type": "stream",
     "text": [
      "0:\tlearn: 0.6551519\ttest: 0.6537218\tbest: 0.6537218 (0)\ttotal: 72.9ms\tremaining: 1m 12s\n",
      "1:\tlearn: 0.6239641\ttest: 0.6215416\tbest: 0.6215416 (1)\ttotal: 142ms\tremaining: 1m 10s\n",
      "2:\tlearn: 0.5996739\ttest: 0.5963162\tbest: 0.5963162 (2)\ttotal: 212ms\tremaining: 1m 10s\n",
      "3:\tlearn: 0.5802639\ttest: 0.5764138\tbest: 0.5764138 (3)\ttotal: 275ms\tremaining: 1m 8s\n",
      "4:\tlearn: 0.5644376\ttest: 0.5602786\tbest: 0.5602786 (4)\ttotal: 344ms\tremaining: 1m 8s\n",
      "5:\tlearn: 0.5520363\ttest: 0.5469660\tbest: 0.5469660 (5)\ttotal: 406ms\tremaining: 1m 7s\n",
      "6:\tlearn: 0.5422264\ttest: 0.5368659\tbest: 0.5368659 (6)\ttotal: 478ms\tremaining: 1m 7s\n",
      "7:\tlearn: 0.5344094\ttest: 0.5288324\tbest: 0.5288324 (7)\ttotal: 541ms\tremaining: 1m 7s\n",
      "8:\tlearn: 0.5281134\ttest: 0.5222733\tbest: 0.5222733 (8)\ttotal: 605ms\tremaining: 1m 6s\n",
      "9:\tlearn: 0.5229495\ttest: 0.5168339\tbest: 0.5168339 (9)\ttotal: 666ms\tremaining: 1m 5s\n",
      "10:\tlearn: 0.5185219\ttest: 0.5121836\tbest: 0.5121836 (10)\ttotal: 724ms\tremaining: 1m 5s\n",
      "11:\tlearn: 0.5149939\ttest: 0.5085502\tbest: 0.5085502 (11)\ttotal: 789ms\tremaining: 1m 4s\n",
      "12:\tlearn: 0.5121671\ttest: 0.5056580\tbest: 0.5056580 (12)\ttotal: 861ms\tremaining: 1m 5s\n",
      "13:\tlearn: 0.5098564\ttest: 0.5032280\tbest: 0.5032280 (13)\ttotal: 921ms\tremaining: 1m 4s\n",
      "14:\tlearn: 0.5078811\ttest: 0.5011247\tbest: 0.5011247 (14)\ttotal: 979ms\tremaining: 1m 4s\n",
      "15:\tlearn: 0.5061582\ttest: 0.4992475\tbest: 0.4992475 (15)\ttotal: 1.05s\tremaining: 1m 4s\n",
      "16:\tlearn: 0.5047118\ttest: 0.4977051\tbest: 0.4977051 (16)\ttotal: 1.11s\tremaining: 1m 4s\n",
      "17:\tlearn: 0.5034843\ttest: 0.4963313\tbest: 0.4963313 (17)\ttotal: 1.17s\tremaining: 1m 4s\n",
      "18:\tlearn: 0.5023838\ttest: 0.4951227\tbest: 0.4951227 (18)\ttotal: 1.23s\tremaining: 1m 3s\n",
      "19:\tlearn: 0.5014176\ttest: 0.4941264\tbest: 0.4941264 (19)\ttotal: 1.29s\tremaining: 1m 3s\n",
      "20:\tlearn: 0.5006751\ttest: 0.4932713\tbest: 0.4932713 (20)\ttotal: 1.35s\tremaining: 1m 3s\n",
      "21:\tlearn: 0.4999769\ttest: 0.4925242\tbest: 0.4925242 (21)\ttotal: 1.41s\tremaining: 1m 2s\n",
      "22:\tlearn: 0.4993269\ttest: 0.4918231\tbest: 0.4918231 (22)\ttotal: 1.47s\tremaining: 1m 2s\n",
      "23:\tlearn: 0.4987814\ttest: 0.4911711\tbest: 0.4911711 (23)\ttotal: 1.53s\tremaining: 1m 2s\n",
      "24:\tlearn: 0.4983404\ttest: 0.4907379\tbest: 0.4907379 (24)\ttotal: 1.6s\tremaining: 1m 2s\n",
      "25:\tlearn: 0.4979296\ttest: 0.4903018\tbest: 0.4903018 (25)\ttotal: 1.67s\tremaining: 1m 2s\n",
      "26:\tlearn: 0.4975275\ttest: 0.4899030\tbest: 0.4899030 (26)\ttotal: 1.74s\tremaining: 1m 2s\n",
      "27:\tlearn: 0.4971302\ttest: 0.4894867\tbest: 0.4894867 (27)\ttotal: 1.8s\tremaining: 1m 2s\n",
      "28:\tlearn: 0.4968194\ttest: 0.4891555\tbest: 0.4891555 (28)\ttotal: 1.86s\tremaining: 1m 2s\n",
      "29:\tlearn: 0.4964980\ttest: 0.4888091\tbest: 0.4888091 (29)\ttotal: 1.94s\tremaining: 1m 2s\n",
      "30:\tlearn: 0.4961553\ttest: 0.4885157\tbest: 0.4885157 (30)\ttotal: 2.02s\tremaining: 1m 3s\n",
      "31:\tlearn: 0.4958965\ttest: 0.4882238\tbest: 0.4882238 (31)\ttotal: 2.08s\tremaining: 1m 3s\n",
      "32:\tlearn: 0.4956477\ttest: 0.4879580\tbest: 0.4879580 (32)\ttotal: 2.15s\tremaining: 1m 3s\n",
      "33:\tlearn: 0.4954088\ttest: 0.4876614\tbest: 0.4876614 (33)\ttotal: 2.22s\tremaining: 1m 3s\n",
      "34:\tlearn: 0.4951999\ttest: 0.4874652\tbest: 0.4874652 (34)\ttotal: 2.28s\tremaining: 1m 2s\n",
      "35:\tlearn: 0.4950002\ttest: 0.4872969\tbest: 0.4872969 (35)\ttotal: 2.35s\tremaining: 1m 2s\n",
      "36:\tlearn: 0.4947477\ttest: 0.4870890\tbest: 0.4870890 (36)\ttotal: 2.41s\tremaining: 1m 2s\n",
      "37:\tlearn: 0.4945592\ttest: 0.4869055\tbest: 0.4869055 (37)\ttotal: 2.47s\tremaining: 1m 2s\n",
      "38:\tlearn: 0.4944044\ttest: 0.4867673\tbest: 0.4867673 (38)\ttotal: 2.54s\tremaining: 1m 2s\n",
      "39:\tlearn: 0.4942070\ttest: 0.4866310\tbest: 0.4866310 (39)\ttotal: 2.59s\tremaining: 1m 2s\n",
      "40:\tlearn: 0.4940329\ttest: 0.4865046\tbest: 0.4865046 (40)\ttotal: 2.65s\tremaining: 1m 2s\n",
      "41:\tlearn: 0.4938765\ttest: 0.4863526\tbest: 0.4863526 (41)\ttotal: 2.71s\tremaining: 1m 1s\n",
      "42:\tlearn: 0.4937029\ttest: 0.4862432\tbest: 0.4862432 (42)\ttotal: 2.77s\tremaining: 1m 1s\n",
      "43:\tlearn: 0.4935543\ttest: 0.4861239\tbest: 0.4861239 (43)\ttotal: 2.83s\tremaining: 1m 1s\n",
      "44:\tlearn: 0.4934111\ttest: 0.4860196\tbest: 0.4860196 (44)\ttotal: 2.89s\tremaining: 1m 1s\n",
      "45:\tlearn: 0.4932623\ttest: 0.4858915\tbest: 0.4858915 (45)\ttotal: 2.95s\tremaining: 1m 1s\n",
      "46:\tlearn: 0.4931584\ttest: 0.4857886\tbest: 0.4857886 (46)\ttotal: 3.01s\tremaining: 1m 1s\n",
      "47:\tlearn: 0.4930025\ttest: 0.4856572\tbest: 0.4856572 (47)\ttotal: 3.07s\tremaining: 1m\n",
      "48:\tlearn: 0.4928294\ttest: 0.4854754\tbest: 0.4854754 (48)\ttotal: 3.13s\tremaining: 1m\n",
      "49:\tlearn: 0.4926956\ttest: 0.4853811\tbest: 0.4853811 (49)\ttotal: 3.2s\tremaining: 1m\n",
      "50:\tlearn: 0.4925607\ttest: 0.4852350\tbest: 0.4852350 (50)\ttotal: 3.25s\tremaining: 1m\n",
      "51:\tlearn: 0.4924213\ttest: 0.4851157\tbest: 0.4851157 (51)\ttotal: 3.32s\tremaining: 1m\n",
      "52:\tlearn: 0.4922429\ttest: 0.4849639\tbest: 0.4849639 (52)\ttotal: 3.38s\tremaining: 1m\n",
      "53:\tlearn: 0.4921544\ttest: 0.4848922\tbest: 0.4848922 (53)\ttotal: 3.44s\tremaining: 1m\n",
      "54:\tlearn: 0.4920607\ttest: 0.4848165\tbest: 0.4848165 (54)\ttotal: 3.5s\tremaining: 1m\n",
      "55:\tlearn: 0.4919710\ttest: 0.4847529\tbest: 0.4847529 (55)\ttotal: 3.56s\tremaining: 1m\n",
      "56:\tlearn: 0.4918471\ttest: 0.4846394\tbest: 0.4846394 (56)\ttotal: 3.63s\tremaining: 60s\n",
      "57:\tlearn: 0.4917662\ttest: 0.4845976\tbest: 0.4845976 (57)\ttotal: 3.69s\tremaining: 60s\n",
      "58:\tlearn: 0.4916709\ttest: 0.4844976\tbest: 0.4844976 (58)\ttotal: 3.75s\tremaining: 59.8s\n",
      "59:\tlearn: 0.4915485\ttest: 0.4844561\tbest: 0.4844561 (59)\ttotal: 3.81s\tremaining: 59.7s\n",
      "60:\tlearn: 0.4914529\ttest: 0.4844346\tbest: 0.4844346 (60)\ttotal: 3.87s\tremaining: 59.6s\n",
      "61:\tlearn: 0.4913780\ttest: 0.4843842\tbest: 0.4843842 (61)\ttotal: 3.93s\tremaining: 59.5s\n",
      "62:\tlearn: 0.4912838\ttest: 0.4843338\tbest: 0.4843338 (62)\ttotal: 3.98s\tremaining: 59.3s\n",
      "63:\tlearn: 0.4911775\ttest: 0.4842463\tbest: 0.4842463 (63)\ttotal: 4.05s\tremaining: 59.2s\n",
      "64:\tlearn: 0.4910642\ttest: 0.4841922\tbest: 0.4841922 (64)\ttotal: 4.11s\tremaining: 59.1s\n",
      "65:\tlearn: 0.4909983\ttest: 0.4841359\tbest: 0.4841359 (65)\ttotal: 4.17s\tremaining: 59s\n",
      "66:\tlearn: 0.4908991\ttest: 0.4840341\tbest: 0.4840341 (66)\ttotal: 4.24s\tremaining: 59s\n",
      "67:\tlearn: 0.4908405\ttest: 0.4839854\tbest: 0.4839854 (67)\ttotal: 4.3s\tremaining: 59s\n",
      "68:\tlearn: 0.4907787\ttest: 0.4839325\tbest: 0.4839325 (68)\ttotal: 4.38s\tremaining: 59.1s\n",
      "69:\tlearn: 0.4906904\ttest: 0.4838652\tbest: 0.4838652 (69)\ttotal: 4.43s\tremaining: 58.9s\n",
      "70:\tlearn: 0.4906016\ttest: 0.4838330\tbest: 0.4838330 (70)\ttotal: 4.49s\tremaining: 58.8s\n",
      "71:\tlearn: 0.4904763\ttest: 0.4837407\tbest: 0.4837407 (71)\ttotal: 4.55s\tremaining: 58.6s\n",
      "72:\tlearn: 0.4903930\ttest: 0.4836642\tbest: 0.4836642 (72)\ttotal: 4.61s\tremaining: 58.6s\n",
      "73:\tlearn: 0.4903203\ttest: 0.4836298\tbest: 0.4836298 (73)\ttotal: 4.67s\tremaining: 58.5s\n",
      "74:\tlearn: 0.4902564\ttest: 0.4836162\tbest: 0.4836162 (74)\ttotal: 4.74s\tremaining: 58.4s\n",
      "75:\tlearn: 0.4901712\ttest: 0.4835603\tbest: 0.4835603 (75)\ttotal: 4.8s\tremaining: 58.4s\n",
      "76:\tlearn: 0.4901212\ttest: 0.4835170\tbest: 0.4835170 (76)\ttotal: 4.86s\tremaining: 58.2s\n",
      "77:\tlearn: 0.4900440\ttest: 0.4835172\tbest: 0.4835170 (76)\ttotal: 4.93s\tremaining: 58.2s\n",
      "78:\tlearn: 0.4899665\ttest: 0.4834600\tbest: 0.4834600 (78)\ttotal: 4.99s\tremaining: 58.2s\n",
      "79:\tlearn: 0.4899011\ttest: 0.4834130\tbest: 0.4834130 (79)\ttotal: 5.06s\tremaining: 58.2s\n",
      "80:\tlearn: 0.4897975\ttest: 0.4833566\tbest: 0.4833566 (80)\ttotal: 5.12s\tremaining: 58.1s\n",
      "81:\tlearn: 0.4897411\ttest: 0.4833241\tbest: 0.4833241 (81)\ttotal: 5.19s\tremaining: 58.1s\n",
      "82:\tlearn: 0.4896358\ttest: 0.4832729\tbest: 0.4832729 (82)\ttotal: 5.26s\tremaining: 58.1s\n",
      "83:\tlearn: 0.4895654\ttest: 0.4832720\tbest: 0.4832720 (83)\ttotal: 5.32s\tremaining: 58.1s\n",
      "84:\tlearn: 0.4894949\ttest: 0.4832349\tbest: 0.4832349 (84)\ttotal: 5.39s\tremaining: 58s\n",
      "85:\tlearn: 0.4894382\ttest: 0.4832245\tbest: 0.4832245 (85)\ttotal: 5.45s\tremaining: 57.9s\n",
      "86:\tlearn: 0.4893900\ttest: 0.4831930\tbest: 0.4831930 (86)\ttotal: 5.51s\tremaining: 57.9s\n",
      "87:\tlearn: 0.4893320\ttest: 0.4831587\tbest: 0.4831587 (87)\ttotal: 5.58s\tremaining: 57.8s\n",
      "88:\tlearn: 0.4892397\ttest: 0.4830963\tbest: 0.4830963 (88)\ttotal: 5.64s\tremaining: 57.8s\n",
      "89:\tlearn: 0.4891542\ttest: 0.4830302\tbest: 0.4830302 (89)\ttotal: 5.71s\tremaining: 57.7s\n",
      "90:\tlearn: 0.4891094\ttest: 0.4830048\tbest: 0.4830048 (90)\ttotal: 5.78s\tremaining: 57.7s\n",
      "91:\tlearn: 0.4890535\ttest: 0.4829876\tbest: 0.4829876 (91)\ttotal: 5.85s\tremaining: 57.7s\n",
      "92:\tlearn: 0.4889929\ttest: 0.4829665\tbest: 0.4829665 (92)\ttotal: 5.91s\tremaining: 57.7s\n",
      "93:\tlearn: 0.4889479\ttest: 0.4829396\tbest: 0.4829396 (93)\ttotal: 5.97s\tremaining: 57.6s\n",
      "94:\tlearn: 0.4888758\ttest: 0.4828994\tbest: 0.4828994 (94)\ttotal: 6.04s\tremaining: 57.5s\n",
      "95:\tlearn: 0.4888082\ttest: 0.4828759\tbest: 0.4828759 (95)\ttotal: 6.1s\tremaining: 57.5s\n",
      "96:\tlearn: 0.4887367\ttest: 0.4828446\tbest: 0.4828446 (96)\ttotal: 6.17s\tremaining: 57.4s\n",
      "97:\tlearn: 0.4886580\ttest: 0.4828354\tbest: 0.4828354 (97)\ttotal: 6.22s\tremaining: 57.3s\n",
      "98:\tlearn: 0.4885802\ttest: 0.4828326\tbest: 0.4828326 (98)\ttotal: 6.29s\tremaining: 57.3s\n",
      "99:\tlearn: 0.4885240\ttest: 0.4828154\tbest: 0.4828154 (99)\ttotal: 6.35s\tremaining: 57.1s\n",
      "100:\tlearn: 0.4884569\ttest: 0.4828063\tbest: 0.4828063 (100)\ttotal: 6.42s\tremaining: 57.2s\n",
      "101:\tlearn: 0.4884164\ttest: 0.4828168\tbest: 0.4828063 (100)\ttotal: 6.48s\tremaining: 57.1s\n",
      "102:\tlearn: 0.4883839\ttest: 0.4827978\tbest: 0.4827978 (102)\ttotal: 6.55s\tremaining: 57.1s\n",
      "103:\tlearn: 0.4883394\ttest: 0.4827899\tbest: 0.4827899 (103)\ttotal: 6.63s\tremaining: 57.1s\n",
      "104:\tlearn: 0.4882651\ttest: 0.4827580\tbest: 0.4827580 (104)\ttotal: 6.7s\tremaining: 57.1s\n",
      "105:\tlearn: 0.4882069\ttest: 0.4827605\tbest: 0.4827580 (104)\ttotal: 6.75s\tremaining: 56.9s\n",
      "106:\tlearn: 0.4881799\ttest: 0.4827545\tbest: 0.4827545 (106)\ttotal: 6.81s\tremaining: 56.8s\n",
      "107:\tlearn: 0.4881031\ttest: 0.4826714\tbest: 0.4826714 (107)\ttotal: 6.88s\tremaining: 56.8s\n",
      "108:\tlearn: 0.4880237\ttest: 0.4826626\tbest: 0.4826626 (108)\ttotal: 6.93s\tremaining: 56.7s\n",
      "109:\tlearn: 0.4879475\ttest: 0.4826233\tbest: 0.4826233 (109)\ttotal: 6.99s\tremaining: 56.6s\n",
      "110:\tlearn: 0.4879220\ttest: 0.4826107\tbest: 0.4826107 (110)\ttotal: 7.06s\tremaining: 56.5s\n",
      "111:\tlearn: 0.4878908\ttest: 0.4825993\tbest: 0.4825993 (111)\ttotal: 7.12s\tremaining: 56.5s\n",
      "112:\tlearn: 0.4878399\ttest: 0.4825779\tbest: 0.4825779 (112)\ttotal: 7.18s\tremaining: 56.4s\n",
      "113:\tlearn: 0.4877825\ttest: 0.4825554\tbest: 0.4825554 (113)\ttotal: 7.24s\tremaining: 56.3s\n",
      "114:\tlearn: 0.4877381\ttest: 0.4825241\tbest: 0.4825241 (114)\ttotal: 7.31s\tremaining: 56.3s\n",
      "115:\tlearn: 0.4876974\ttest: 0.4825049\tbest: 0.4825049 (115)\ttotal: 7.38s\tremaining: 56.2s\n",
      "116:\tlearn: 0.4876565\ttest: 0.4825040\tbest: 0.4825040 (116)\ttotal: 7.44s\tremaining: 56.1s\n",
      "117:\tlearn: 0.4876028\ttest: 0.4824680\tbest: 0.4824680 (117)\ttotal: 7.51s\tremaining: 56.1s\n",
      "118:\tlearn: 0.4875119\ttest: 0.4823891\tbest: 0.4823891 (118)\ttotal: 7.57s\tremaining: 56.1s\n",
      "119:\tlearn: 0.4874746\ttest: 0.4823876\tbest: 0.4823876 (119)\ttotal: 7.64s\tremaining: 56s\n",
      "120:\tlearn: 0.4873969\ttest: 0.4823249\tbest: 0.4823249 (120)\ttotal: 7.7s\tremaining: 55.9s\n",
      "121:\tlearn: 0.4873646\ttest: 0.4823311\tbest: 0.4823249 (120)\ttotal: 7.76s\tremaining: 55.8s\n",
      "122:\tlearn: 0.4873295\ttest: 0.4823228\tbest: 0.4823228 (122)\ttotal: 7.82s\tremaining: 55.8s\n",
      "123:\tlearn: 0.4872518\ttest: 0.4822559\tbest: 0.4822559 (123)\ttotal: 7.88s\tremaining: 55.7s\n",
      "124:\tlearn: 0.4872183\ttest: 0.4822629\tbest: 0.4822559 (123)\ttotal: 7.93s\tremaining: 55.5s\n",
      "125:\tlearn: 0.4871804\ttest: 0.4822442\tbest: 0.4822442 (125)\ttotal: 7.99s\tremaining: 55.4s\n",
      "126:\tlearn: 0.4871274\ttest: 0.4822243\tbest: 0.4822243 (126)\ttotal: 8.06s\tremaining: 55.4s\n",
      "127:\tlearn: 0.4870597\ttest: 0.4821907\tbest: 0.4821907 (127)\ttotal: 8.12s\tremaining: 55.3s\n",
      "128:\tlearn: 0.4870088\ttest: 0.4821698\tbest: 0.4821698 (128)\ttotal: 8.18s\tremaining: 55.2s\n",
      "129:\tlearn: 0.4869745\ttest: 0.4821588\tbest: 0.4821588 (129)\ttotal: 8.24s\tremaining: 55.1s\n",
      "130:\tlearn: 0.4869212\ttest: 0.4821627\tbest: 0.4821588 (129)\ttotal: 8.3s\tremaining: 55.1s\n",
      "131:\tlearn: 0.4868583\ttest: 0.4821226\tbest: 0.4821226 (131)\ttotal: 8.37s\tremaining: 55s\n",
      "132:\tlearn: 0.4868165\ttest: 0.4821246\tbest: 0.4821226 (131)\ttotal: 8.43s\tremaining: 54.9s\n",
      "133:\tlearn: 0.4867632\ttest: 0.4821001\tbest: 0.4821001 (133)\ttotal: 8.48s\tremaining: 54.8s\n",
      "134:\tlearn: 0.4867199\ttest: 0.4820892\tbest: 0.4820892 (134)\ttotal: 8.54s\tremaining: 54.7s\n",
      "135:\tlearn: 0.4866759\ttest: 0.4820833\tbest: 0.4820833 (135)\ttotal: 8.61s\tremaining: 54.7s\n",
      "136:\tlearn: 0.4866241\ttest: 0.4820735\tbest: 0.4820735 (136)\ttotal: 8.66s\tremaining: 54.6s\n",
      "137:\tlearn: 0.4865729\ttest: 0.4820524\tbest: 0.4820524 (137)\ttotal: 8.72s\tremaining: 54.5s\n",
      "138:\tlearn: 0.4865507\ttest: 0.4820544\tbest: 0.4820524 (137)\ttotal: 8.77s\tremaining: 54.4s\n",
      "139:\tlearn: 0.4865154\ttest: 0.4820502\tbest: 0.4820502 (139)\ttotal: 8.83s\tremaining: 54.3s\n",
      "140:\tlearn: 0.4864674\ttest: 0.4820296\tbest: 0.4820296 (140)\ttotal: 8.89s\tremaining: 54.2s\n",
      "141:\tlearn: 0.4864047\ttest: 0.4820053\tbest: 0.4820053 (141)\ttotal: 8.95s\tremaining: 54.1s\n",
      "142:\tlearn: 0.4863587\ttest: 0.4820140\tbest: 0.4820053 (141)\ttotal: 9.02s\tremaining: 54.1s\n",
      "143:\tlearn: 0.4863185\ttest: 0.4819791\tbest: 0.4819791 (143)\ttotal: 9.09s\tremaining: 54s\n",
      "144:\tlearn: 0.4862655\ttest: 0.4819743\tbest: 0.4819743 (144)\ttotal: 9.15s\tremaining: 54s\n",
      "145:\tlearn: 0.4862421\ttest: 0.4819786\tbest: 0.4819743 (144)\ttotal: 9.21s\tremaining: 53.9s\n",
      "146:\tlearn: 0.4861884\ttest: 0.4819974\tbest: 0.4819743 (144)\ttotal: 9.28s\tremaining: 53.8s\n",
      "147:\tlearn: 0.4861403\ttest: 0.4819889\tbest: 0.4819743 (144)\ttotal: 9.34s\tremaining: 53.8s\n",
      "148:\tlearn: 0.4860866\ttest: 0.4819399\tbest: 0.4819399 (148)\ttotal: 9.4s\tremaining: 53.7s\n",
      "149:\tlearn: 0.4860342\ttest: 0.4819134\tbest: 0.4819134 (149)\ttotal: 9.46s\tremaining: 53.6s\n",
      "150:\tlearn: 0.4860137\ttest: 0.4819143\tbest: 0.4819134 (149)\ttotal: 9.52s\tremaining: 53.5s\n",
      "151:\tlearn: 0.4859533\ttest: 0.4819109\tbest: 0.4819109 (151)\ttotal: 9.57s\tremaining: 53.4s\n",
      "152:\tlearn: 0.4859039\ttest: 0.4818877\tbest: 0.4818877 (152)\ttotal: 9.63s\tremaining: 53.3s\n",
      "153:\tlearn: 0.4858767\ttest: 0.4818740\tbest: 0.4818740 (153)\ttotal: 9.69s\tremaining: 53.2s\n",
      "154:\tlearn: 0.4858189\ttest: 0.4818721\tbest: 0.4818721 (154)\ttotal: 9.75s\tremaining: 53.1s\n",
      "155:\tlearn: 0.4857719\ttest: 0.4818476\tbest: 0.4818476 (155)\ttotal: 9.81s\tremaining: 53.1s\n",
      "156:\tlearn: 0.4857370\ttest: 0.4818299\tbest: 0.4818299 (156)\ttotal: 9.88s\tremaining: 53s\n",
      "157:\tlearn: 0.4857127\ttest: 0.4818331\tbest: 0.4818299 (156)\ttotal: 9.94s\tremaining: 53s\n",
      "158:\tlearn: 0.4856906\ttest: 0.4818311\tbest: 0.4818299 (156)\ttotal: 10s\tremaining: 52.9s\n",
      "159:\tlearn: 0.4856580\ttest: 0.4817977\tbest: 0.4817977 (159)\ttotal: 10.1s\tremaining: 52.8s\n",
      "160:\tlearn: 0.4856245\ttest: 0.4817993\tbest: 0.4817977 (159)\ttotal: 10.1s\tremaining: 52.8s\n",
      "161:\tlearn: 0.4855639\ttest: 0.4818055\tbest: 0.4817977 (159)\ttotal: 10.2s\tremaining: 52.7s\n",
      "162:\tlearn: 0.4855152\ttest: 0.4817815\tbest: 0.4817815 (162)\ttotal: 10.2s\tremaining: 52.6s\n",
      "163:\tlearn: 0.4854620\ttest: 0.4817610\tbest: 0.4817610 (163)\ttotal: 10.3s\tremaining: 52.6s\n",
      "164:\tlearn: 0.4854025\ttest: 0.4817247\tbest: 0.4817247 (164)\ttotal: 10.4s\tremaining: 52.6s\n",
      "165:\tlearn: 0.4853684\ttest: 0.4817243\tbest: 0.4817243 (165)\ttotal: 10.4s\tremaining: 52.4s\n",
      "166:\tlearn: 0.4853356\ttest: 0.4817257\tbest: 0.4817243 (165)\ttotal: 10.5s\tremaining: 52.4s\n",
      "167:\tlearn: 0.4853045\ttest: 0.4817046\tbest: 0.4817046 (167)\ttotal: 10.6s\tremaining: 52.3s\n",
      "168:\tlearn: 0.4852531\ttest: 0.4817124\tbest: 0.4817046 (167)\ttotal: 10.6s\tremaining: 52.2s\n",
      "169:\tlearn: 0.4852115\ttest: 0.4817068\tbest: 0.4817046 (167)\ttotal: 10.7s\tremaining: 52.2s\n",
      "170:\tlearn: 0.4851665\ttest: 0.4816687\tbest: 0.4816687 (170)\ttotal: 10.8s\tremaining: 52.1s\n",
      "171:\tlearn: 0.4851374\ttest: 0.4816496\tbest: 0.4816496 (171)\ttotal: 10.8s\tremaining: 52.1s\n",
      "172:\tlearn: 0.4851128\ttest: 0.4816454\tbest: 0.4816454 (172)\ttotal: 10.9s\tremaining: 52s\n",
      "173:\tlearn: 0.4850823\ttest: 0.4816226\tbest: 0.4816226 (173)\ttotal: 10.9s\tremaining: 51.9s\n",
      "174:\tlearn: 0.4850542\ttest: 0.4816103\tbest: 0.4816103 (174)\ttotal: 11s\tremaining: 51.8s\n",
      "175:\tlearn: 0.4849993\ttest: 0.4815650\tbest: 0.4815650 (175)\ttotal: 11.1s\tremaining: 51.8s\n",
      "176:\tlearn: 0.4849627\ttest: 0.4815545\tbest: 0.4815545 (176)\ttotal: 11.1s\tremaining: 51.7s\n",
      "177:\tlearn: 0.4849310\ttest: 0.4815489\tbest: 0.4815489 (177)\ttotal: 11.2s\tremaining: 51.7s\n",
      "178:\tlearn: 0.4848802\ttest: 0.4815742\tbest: 0.4815489 (177)\ttotal: 11.2s\tremaining: 51.6s\n",
      "179:\tlearn: 0.4848536\ttest: 0.4815509\tbest: 0.4815489 (177)\ttotal: 11.3s\tremaining: 51.5s\n",
      "180:\tlearn: 0.4847974\ttest: 0.4815370\tbest: 0.4815370 (180)\ttotal: 11.4s\tremaining: 51.4s\n",
      "181:\tlearn: 0.4847578\ttest: 0.4815387\tbest: 0.4815370 (180)\ttotal: 11.4s\tremaining: 51.3s\n",
      "182:\tlearn: 0.4847186\ttest: 0.4815387\tbest: 0.4815370 (180)\ttotal: 11.5s\tremaining: 51.2s\n",
      "183:\tlearn: 0.4846626\ttest: 0.4815099\tbest: 0.4815099 (183)\ttotal: 11.5s\tremaining: 51.2s\n",
      "184:\tlearn: 0.4846382\ttest: 0.4815013\tbest: 0.4815013 (184)\ttotal: 11.6s\tremaining: 51.1s\n",
      "185:\tlearn: 0.4845970\ttest: 0.4814804\tbest: 0.4814804 (185)\ttotal: 11.7s\tremaining: 51.1s\n",
      "186:\tlearn: 0.4845650\ttest: 0.4814763\tbest: 0.4814763 (186)\ttotal: 11.7s\tremaining: 51s\n",
      "187:\tlearn: 0.4845238\ttest: 0.4814633\tbest: 0.4814633 (187)\ttotal: 11.8s\tremaining: 50.9s\n",
      "188:\tlearn: 0.4845010\ttest: 0.4814608\tbest: 0.4814608 (188)\ttotal: 11.9s\tremaining: 50.9s\n",
      "189:\tlearn: 0.4844494\ttest: 0.4814404\tbest: 0.4814404 (189)\ttotal: 11.9s\tremaining: 50.8s\n",
      "190:\tlearn: 0.4844305\ttest: 0.4814203\tbest: 0.4814203 (190)\ttotal: 12s\tremaining: 50.8s\n",
      "191:\tlearn: 0.4844027\ttest: 0.4814116\tbest: 0.4814116 (191)\ttotal: 12.1s\tremaining: 50.7s\n",
      "192:\tlearn: 0.4843674\ttest: 0.4814043\tbest: 0.4814043 (192)\ttotal: 12.1s\tremaining: 50.7s\n",
      "193:\tlearn: 0.4843540\ttest: 0.4814082\tbest: 0.4814043 (192)\ttotal: 12.2s\tremaining: 50.6s\n",
      "194:\tlearn: 0.4843359\ttest: 0.4813990\tbest: 0.4813990 (194)\ttotal: 12.2s\tremaining: 50.5s\n",
      "195:\tlearn: 0.4843120\ttest: 0.4813869\tbest: 0.4813869 (195)\ttotal: 12.3s\tremaining: 50.4s\n",
      "196:\tlearn: 0.4842896\ttest: 0.4813827\tbest: 0.4813827 (196)\ttotal: 12.4s\tremaining: 50.4s\n",
      "197:\tlearn: 0.4842320\ttest: 0.4814082\tbest: 0.4813827 (196)\ttotal: 12.4s\tremaining: 50.3s\n",
      "198:\tlearn: 0.4842001\ttest: 0.4814168\tbest: 0.4813827 (196)\ttotal: 12.5s\tremaining: 50.2s\n",
      "199:\tlearn: 0.4841720\ttest: 0.4813972\tbest: 0.4813827 (196)\ttotal: 12.5s\tremaining: 50.1s\n",
      "200:\tlearn: 0.4841418\ttest: 0.4813855\tbest: 0.4813827 (196)\ttotal: 12.6s\tremaining: 50.1s\n",
      "201:\tlearn: 0.4840913\ttest: 0.4813880\tbest: 0.4813827 (196)\ttotal: 12.7s\tremaining: 50s\n",
      "202:\tlearn: 0.4840649\ttest: 0.4813582\tbest: 0.4813582 (202)\ttotal: 12.7s\tremaining: 50s\n",
      "203:\tlearn: 0.4840427\ttest: 0.4813594\tbest: 0.4813582 (202)\ttotal: 12.8s\tremaining: 49.9s\n",
      "204:\tlearn: 0.4839877\ttest: 0.4813469\tbest: 0.4813469 (204)\ttotal: 12.9s\tremaining: 49.9s\n",
      "205:\tlearn: 0.4839448\ttest: 0.4813334\tbest: 0.4813334 (205)\ttotal: 12.9s\tremaining: 49.8s\n",
      "206:\tlearn: 0.4838855\ttest: 0.4813219\tbest: 0.4813219 (206)\ttotal: 13s\tremaining: 49.8s\n",
      "207:\tlearn: 0.4838603\ttest: 0.4813176\tbest: 0.4813176 (207)\ttotal: 13.1s\tremaining: 49.7s\n",
      "208:\tlearn: 0.4838356\ttest: 0.4813105\tbest: 0.4813105 (208)\ttotal: 13.1s\tremaining: 49.7s\n",
      "209:\tlearn: 0.4838078\ttest: 0.4813102\tbest: 0.4813102 (209)\ttotal: 13.2s\tremaining: 49.6s\n",
      "210:\tlearn: 0.4837389\ttest: 0.4812973\tbest: 0.4812973 (210)\ttotal: 13.2s\tremaining: 49.5s\n",
      "211:\tlearn: 0.4837163\ttest: 0.4812880\tbest: 0.4812880 (211)\ttotal: 13.3s\tremaining: 49.4s\n",
      "212:\tlearn: 0.4836797\ttest: 0.4812875\tbest: 0.4812875 (212)\ttotal: 13.4s\tremaining: 49.4s\n",
      "213:\tlearn: 0.4836407\ttest: 0.4812516\tbest: 0.4812516 (213)\ttotal: 13.4s\tremaining: 49.3s\n",
      "214:\tlearn: 0.4836120\ttest: 0.4812452\tbest: 0.4812452 (214)\ttotal: 13.5s\tremaining: 49.3s\n",
      "215:\tlearn: 0.4835933\ttest: 0.4812394\tbest: 0.4812394 (215)\ttotal: 13.6s\tremaining: 49.2s\n",
      "216:\tlearn: 0.4835368\ttest: 0.4812209\tbest: 0.4812209 (216)\ttotal: 13.6s\tremaining: 49.2s\n",
      "217:\tlearn: 0.4835107\ttest: 0.4812084\tbest: 0.4812084 (217)\ttotal: 13.7s\tremaining: 49.2s\n",
      "218:\tlearn: 0.4834767\ttest: 0.4812142\tbest: 0.4812084 (217)\ttotal: 13.8s\tremaining: 49.1s\n",
      "219:\tlearn: 0.4834583\ttest: 0.4812159\tbest: 0.4812084 (217)\ttotal: 13.8s\tremaining: 49.1s\n",
      "220:\tlearn: 0.4834371\ttest: 0.4812077\tbest: 0.4812077 (220)\ttotal: 13.9s\tremaining: 49s\n",
      "221:\tlearn: 0.4834306\ttest: 0.4812058\tbest: 0.4812058 (221)\ttotal: 14s\tremaining: 49s\n",
      "222:\tlearn: 0.4834067\ttest: 0.4812164\tbest: 0.4812058 (221)\ttotal: 14s\tremaining: 48.9s\n",
      "223:\tlearn: 0.4833693\ttest: 0.4812371\tbest: 0.4812058 (221)\ttotal: 14.1s\tremaining: 48.8s\n",
      "224:\tlearn: 0.4833352\ttest: 0.4812185\tbest: 0.4812058 (221)\ttotal: 14.1s\tremaining: 48.7s\n",
      "225:\tlearn: 0.4833004\ttest: 0.4812240\tbest: 0.4812058 (221)\ttotal: 14.2s\tremaining: 48.7s\n",
      "226:\tlearn: 0.4832649\ttest: 0.4812114\tbest: 0.4812058 (221)\ttotal: 14.3s\tremaining: 48.6s\n",
      "227:\tlearn: 0.4832351\ttest: 0.4811958\tbest: 0.4811958 (227)\ttotal: 14.3s\tremaining: 48.5s\n",
      "228:\tlearn: 0.4832117\ttest: 0.4811969\tbest: 0.4811958 (227)\ttotal: 14.4s\tremaining: 48.5s\n",
      "229:\tlearn: 0.4831925\ttest: 0.4811835\tbest: 0.4811835 (229)\ttotal: 14.5s\tremaining: 48.4s\n",
      "230:\tlearn: 0.4831572\ttest: 0.4811576\tbest: 0.4811576 (230)\ttotal: 14.5s\tremaining: 48.3s\n",
      "231:\tlearn: 0.4831166\ttest: 0.4811591\tbest: 0.4811576 (230)\ttotal: 14.6s\tremaining: 48.3s\n",
      "232:\tlearn: 0.4830893\ttest: 0.4811590\tbest: 0.4811576 (230)\ttotal: 14.6s\tremaining: 48.2s\n",
      "233:\tlearn: 0.4830528\ttest: 0.4811437\tbest: 0.4811437 (233)\ttotal: 14.7s\tremaining: 48.2s\n",
      "234:\tlearn: 0.4830188\ttest: 0.4811387\tbest: 0.4811387 (234)\ttotal: 14.8s\tremaining: 48.1s\n",
      "235:\tlearn: 0.4829742\ttest: 0.4811383\tbest: 0.4811383 (235)\ttotal: 14.8s\tremaining: 48s\n",
      "236:\tlearn: 0.4829306\ttest: 0.4811303\tbest: 0.4811303 (236)\ttotal: 14.9s\tremaining: 48s\n",
      "237:\tlearn: 0.4829004\ttest: 0.4811377\tbest: 0.4811303 (236)\ttotal: 15s\tremaining: 47.9s\n",
      "238:\tlearn: 0.4828638\ttest: 0.4811296\tbest: 0.4811296 (238)\ttotal: 15s\tremaining: 47.9s\n",
      "239:\tlearn: 0.4828432\ttest: 0.4811444\tbest: 0.4811296 (238)\ttotal: 15.1s\tremaining: 47.8s\n",
      "240:\tlearn: 0.4828031\ttest: 0.4811582\tbest: 0.4811296 (238)\ttotal: 15.2s\tremaining: 47.7s\n",
      "241:\tlearn: 0.4827761\ttest: 0.4811538\tbest: 0.4811296 (238)\ttotal: 15.2s\tremaining: 47.7s\n",
      "242:\tlearn: 0.4827593\ttest: 0.4811642\tbest: 0.4811296 (238)\ttotal: 15.3s\tremaining: 47.6s\n",
      "243:\tlearn: 0.4827160\ttest: 0.4811358\tbest: 0.4811296 (238)\ttotal: 15.3s\tremaining: 47.5s\n",
      "244:\tlearn: 0.4826942\ttest: 0.4811303\tbest: 0.4811296 (238)\ttotal: 15.4s\tremaining: 47.5s\n",
      "245:\tlearn: 0.4826733\ttest: 0.4811236\tbest: 0.4811236 (245)\ttotal: 15.5s\tremaining: 47.4s\n",
      "246:\tlearn: 0.4826472\ttest: 0.4811257\tbest: 0.4811236 (245)\ttotal: 15.5s\tremaining: 47.4s\n",
      "247:\tlearn: 0.4826056\ttest: 0.4811106\tbest: 0.4811106 (247)\ttotal: 15.6s\tremaining: 47.3s\n",
      "248:\tlearn: 0.4825556\ttest: 0.4810657\tbest: 0.4810657 (248)\ttotal: 15.7s\tremaining: 47.2s\n",
      "249:\tlearn: 0.4825216\ttest: 0.4810388\tbest: 0.4810388 (249)\ttotal: 15.7s\tremaining: 47.1s\n",
      "250:\tlearn: 0.4824957\ttest: 0.4810245\tbest: 0.4810245 (250)\ttotal: 15.8s\tremaining: 47.1s\n",
      "251:\tlearn: 0.4824747\ttest: 0.4810132\tbest: 0.4810132 (251)\ttotal: 15.8s\tremaining: 47s\n",
      "252:\tlearn: 0.4824268\ttest: 0.4809957\tbest: 0.4809957 (252)\ttotal: 15.9s\tremaining: 47s\n",
      "253:\tlearn: 0.4823989\ttest: 0.4810029\tbest: 0.4809957 (252)\ttotal: 16s\tremaining: 46.9s\n",
      "254:\tlearn: 0.4823476\ttest: 0.4810097\tbest: 0.4809957 (252)\ttotal: 16s\tremaining: 46.9s\n",
      "255:\tlearn: 0.4823002\ttest: 0.4810107\tbest: 0.4809957 (252)\ttotal: 16.1s\tremaining: 46.8s\n",
      "256:\tlearn: 0.4822575\ttest: 0.4810041\tbest: 0.4809957 (252)\ttotal: 16.2s\tremaining: 46.8s\n",
      "257:\tlearn: 0.4822409\ttest: 0.4810058\tbest: 0.4809957 (252)\ttotal: 16.2s\tremaining: 46.7s\n",
      "258:\tlearn: 0.4822069\ttest: 0.4810141\tbest: 0.4809957 (252)\ttotal: 16.3s\tremaining: 46.6s\n",
      "259:\tlearn: 0.4821501\ttest: 0.4810132\tbest: 0.4809957 (252)\ttotal: 16.4s\tremaining: 46.6s\n",
      "260:\tlearn: 0.4821255\ttest: 0.4810089\tbest: 0.4809957 (252)\ttotal: 16.4s\tremaining: 46.5s\n",
      "261:\tlearn: 0.4820943\ttest: 0.4809987\tbest: 0.4809957 (252)\ttotal: 16.5s\tremaining: 46.4s\n",
      "262:\tlearn: 0.4820583\ttest: 0.4809928\tbest: 0.4809928 (262)\ttotal: 16.5s\tremaining: 46.4s\n",
      "263:\tlearn: 0.4820350\ttest: 0.4809939\tbest: 0.4809928 (262)\ttotal: 16.6s\tremaining: 46.3s\n",
      "264:\tlearn: 0.4819934\ttest: 0.4809722\tbest: 0.4809722 (264)\ttotal: 16.7s\tremaining: 46.3s\n",
      "265:\tlearn: 0.4819585\ttest: 0.4809741\tbest: 0.4809722 (264)\ttotal: 16.7s\tremaining: 46.2s\n",
      "266:\tlearn: 0.4819192\ttest: 0.4809721\tbest: 0.4809721 (266)\ttotal: 16.8s\tremaining: 46.1s\n",
      "267:\tlearn: 0.4818841\ttest: 0.4809672\tbest: 0.4809672 (267)\ttotal: 16.9s\tremaining: 46.1s\n",
      "268:\tlearn: 0.4818719\ttest: 0.4809642\tbest: 0.4809642 (268)\ttotal: 16.9s\tremaining: 46s\n",
      "269:\tlearn: 0.4818374\ttest: 0.4809676\tbest: 0.4809642 (268)\ttotal: 17s\tremaining: 45.9s\n",
      "270:\tlearn: 0.4818007\ttest: 0.4809467\tbest: 0.4809467 (270)\ttotal: 17s\tremaining: 45.9s\n",
      "271:\tlearn: 0.4817584\ttest: 0.4809412\tbest: 0.4809412 (271)\ttotal: 17.1s\tremaining: 45.8s\n",
      "272:\tlearn: 0.4817194\ttest: 0.4809209\tbest: 0.4809209 (272)\ttotal: 17.2s\tremaining: 45.7s\n",
      "273:\tlearn: 0.4816950\ttest: 0.4809117\tbest: 0.4809117 (273)\ttotal: 17.2s\tremaining: 45.7s\n",
      "274:\tlearn: 0.4816855\ttest: 0.4809081\tbest: 0.4809081 (274)\ttotal: 17.3s\tremaining: 45.6s\n",
      "275:\tlearn: 0.4816678\ttest: 0.4809110\tbest: 0.4809081 (274)\ttotal: 17.4s\tremaining: 45.6s\n",
      "276:\tlearn: 0.4816424\ttest: 0.4809141\tbest: 0.4809081 (274)\ttotal: 17.4s\tremaining: 45.5s\n",
      "277:\tlearn: 0.4815958\ttest: 0.4809239\tbest: 0.4809081 (274)\ttotal: 17.5s\tremaining: 45.5s\n",
      "278:\tlearn: 0.4815827\ttest: 0.4809228\tbest: 0.4809081 (274)\ttotal: 17.6s\tremaining: 45.4s\n",
      "279:\tlearn: 0.4815622\ttest: 0.4809157\tbest: 0.4809081 (274)\ttotal: 17.6s\tremaining: 45.3s\n",
      "280:\tlearn: 0.4815466\ttest: 0.4809065\tbest: 0.4809065 (280)\ttotal: 17.7s\tremaining: 45.2s\n",
      "281:\tlearn: 0.4815287\ttest: 0.4809008\tbest: 0.4809008 (281)\ttotal: 17.7s\tremaining: 45.1s\n",
      "282:\tlearn: 0.4814530\ttest: 0.4808643\tbest: 0.4808643 (282)\ttotal: 17.8s\tremaining: 45.1s\n",
      "283:\tlearn: 0.4814335\ttest: 0.4808655\tbest: 0.4808643 (282)\ttotal: 17.8s\tremaining: 45s\n",
      "284:\tlearn: 0.4813966\ttest: 0.4808652\tbest: 0.4808643 (282)\ttotal: 17.9s\tremaining: 44.9s\n",
      "285:\tlearn: 0.4813551\ttest: 0.4808478\tbest: 0.4808478 (285)\ttotal: 18s\tremaining: 44.8s\n",
      "286:\tlearn: 0.4813151\ttest: 0.4808392\tbest: 0.4808392 (286)\ttotal: 18s\tremaining: 44.8s\n",
      "287:\tlearn: 0.4812916\ttest: 0.4808488\tbest: 0.4808392 (286)\ttotal: 18.1s\tremaining: 44.7s\n",
      "288:\tlearn: 0.4812516\ttest: 0.4808603\tbest: 0.4808392 (286)\ttotal: 18.1s\tremaining: 44.6s\n",
      "289:\tlearn: 0.4812293\ttest: 0.4808660\tbest: 0.4808392 (286)\ttotal: 18.2s\tremaining: 44.6s\n",
      "290:\tlearn: 0.4812090\ttest: 0.4808487\tbest: 0.4808392 (286)\ttotal: 18.3s\tremaining: 44.5s\n",
      "291:\tlearn: 0.4811978\ttest: 0.4808499\tbest: 0.4808392 (286)\ttotal: 18.3s\tremaining: 44.4s\n",
      "292:\tlearn: 0.4811726\ttest: 0.4808419\tbest: 0.4808392 (286)\ttotal: 18.4s\tremaining: 44.4s\n",
      "293:\tlearn: 0.4811286\ttest: 0.4808349\tbest: 0.4808349 (293)\ttotal: 18.5s\tremaining: 44.3s\n",
      "294:\tlearn: 0.4811089\ttest: 0.4808265\tbest: 0.4808265 (294)\ttotal: 18.5s\tremaining: 44.2s\n",
      "295:\tlearn: 0.4810841\ttest: 0.4808242\tbest: 0.4808242 (295)\ttotal: 18.6s\tremaining: 44.2s\n",
      "296:\tlearn: 0.4810517\ttest: 0.4808150\tbest: 0.4808150 (296)\ttotal: 18.6s\tremaining: 44.1s\n",
      "297:\tlearn: 0.4810230\ttest: 0.4807996\tbest: 0.4807996 (297)\ttotal: 18.7s\tremaining: 44.1s\n",
      "298:\tlearn: 0.4809962\ttest: 0.4808024\tbest: 0.4807996 (297)\ttotal: 18.8s\tremaining: 44s\n",
      "299:\tlearn: 0.4809547\ttest: 0.4808099\tbest: 0.4807996 (297)\ttotal: 18.8s\tremaining: 43.9s\n",
      "300:\tlearn: 0.4809402\ttest: 0.4808144\tbest: 0.4807996 (297)\ttotal: 18.9s\tremaining: 43.9s\n",
      "301:\tlearn: 0.4809037\ttest: 0.4808067\tbest: 0.4807996 (297)\ttotal: 19s\tremaining: 43.8s\n",
      "302:\tlearn: 0.4808740\ttest: 0.4808048\tbest: 0.4807996 (297)\ttotal: 19s\tremaining: 43.8s\n",
      "303:\tlearn: 0.4808440\ttest: 0.4807993\tbest: 0.4807993 (303)\ttotal: 19.1s\tremaining: 43.7s\n",
      "304:\tlearn: 0.4808065\ttest: 0.4807999\tbest: 0.4807993 (303)\ttotal: 19.1s\tremaining: 43.6s\n",
      "305:\tlearn: 0.4807789\ttest: 0.4807981\tbest: 0.4807981 (305)\ttotal: 19.2s\tremaining: 43.5s\n",
      "306:\tlearn: 0.4807429\ttest: 0.4807907\tbest: 0.4807907 (306)\ttotal: 19.3s\tremaining: 43.5s\n",
      "307:\tlearn: 0.4806827\ttest: 0.4807853\tbest: 0.4807853 (307)\ttotal: 19.3s\tremaining: 43.5s\n",
      "308:\tlearn: 0.4806475\ttest: 0.4807778\tbest: 0.4807778 (308)\ttotal: 19.4s\tremaining: 43.4s\n",
      "309:\tlearn: 0.4806114\ttest: 0.4807757\tbest: 0.4807757 (309)\ttotal: 19.5s\tremaining: 43.4s\n",
      "310:\tlearn: 0.4805884\ttest: 0.4807743\tbest: 0.4807743 (310)\ttotal: 19.5s\tremaining: 43.3s\n",
      "311:\tlearn: 0.4805587\ttest: 0.4807828\tbest: 0.4807743 (310)\ttotal: 19.6s\tremaining: 43.2s\n",
      "312:\tlearn: 0.4805326\ttest: 0.4807829\tbest: 0.4807743 (310)\ttotal: 19.7s\tremaining: 43.2s\n",
      "313:\tlearn: 0.4805205\ttest: 0.4807749\tbest: 0.4807743 (310)\ttotal: 19.7s\tremaining: 43.1s\n",
      "314:\tlearn: 0.4804946\ttest: 0.4807563\tbest: 0.4807563 (314)\ttotal: 19.8s\tremaining: 43.1s\n",
      "315:\tlearn: 0.4804752\ttest: 0.4807403\tbest: 0.4807403 (315)\ttotal: 19.9s\tremaining: 43s\n",
      "316:\tlearn: 0.4804457\ttest: 0.4807446\tbest: 0.4807403 (315)\ttotal: 19.9s\tremaining: 43s\n",
      "317:\tlearn: 0.4804103\ttest: 0.4807335\tbest: 0.4807335 (317)\ttotal: 20s\tremaining: 42.9s\n",
      "318:\tlearn: 0.4803868\ttest: 0.4807419\tbest: 0.4807335 (317)\ttotal: 20.1s\tremaining: 42.8s\n",
      "319:\tlearn: 0.4803454\ttest: 0.4807490\tbest: 0.4807335 (317)\ttotal: 20.1s\tremaining: 42.7s\n",
      "320:\tlearn: 0.4803215\ttest: 0.4807303\tbest: 0.4807303 (320)\ttotal: 20.2s\tremaining: 42.7s\n",
      "321:\tlearn: 0.4802946\ttest: 0.4807255\tbest: 0.4807255 (321)\ttotal: 20.2s\tremaining: 42.6s\n",
      "322:\tlearn: 0.4802754\ttest: 0.4807212\tbest: 0.4807212 (322)\ttotal: 20.3s\tremaining: 42.5s\n",
      "323:\tlearn: 0.4802270\ttest: 0.4807196\tbest: 0.4807196 (323)\ttotal: 20.3s\tremaining: 42.5s\n",
      "324:\tlearn: 0.4801936\ttest: 0.4807110\tbest: 0.4807110 (324)\ttotal: 20.4s\tremaining: 42.4s\n",
      "325:\tlearn: 0.4801666\ttest: 0.4807073\tbest: 0.4807073 (325)\ttotal: 20.5s\tremaining: 42.3s\n",
      "326:\tlearn: 0.4801510\ttest: 0.4807096\tbest: 0.4807073 (325)\ttotal: 20.5s\tremaining: 42.3s\n",
      "327:\tlearn: 0.4801304\ttest: 0.4807075\tbest: 0.4807073 (325)\ttotal: 20.6s\tremaining: 42.2s\n",
      "328:\tlearn: 0.4801038\ttest: 0.4807004\tbest: 0.4807004 (328)\ttotal: 20.6s\tremaining: 42.1s\n",
      "329:\tlearn: 0.4800584\ttest: 0.4806777\tbest: 0.4806777 (329)\ttotal: 20.7s\tremaining: 42.1s\n",
      "330:\tlearn: 0.4800203\ttest: 0.4806928\tbest: 0.4806777 (329)\ttotal: 20.8s\tremaining: 42s\n",
      "331:\tlearn: 0.4799756\ttest: 0.4806810\tbest: 0.4806777 (329)\ttotal: 20.8s\tremaining: 41.9s\n",
      "332:\tlearn: 0.4799363\ttest: 0.4806800\tbest: 0.4806777 (329)\ttotal: 20.9s\tremaining: 41.8s\n",
      "333:\tlearn: 0.4799223\ttest: 0.4806847\tbest: 0.4806777 (329)\ttotal: 21s\tremaining: 41.8s\n",
      "334:\tlearn: 0.4798886\ttest: 0.4806812\tbest: 0.4806777 (329)\ttotal: 21s\tremaining: 41.7s\n",
      "335:\tlearn: 0.4798678\ttest: 0.4806827\tbest: 0.4806777 (329)\ttotal: 21.1s\tremaining: 41.7s\n",
      "336:\tlearn: 0.4798289\ttest: 0.4806983\tbest: 0.4806777 (329)\ttotal: 21.1s\tremaining: 41.6s\n",
      "337:\tlearn: 0.4797997\ttest: 0.4807106\tbest: 0.4806777 (329)\ttotal: 21.2s\tremaining: 41.5s\n",
      "338:\tlearn: 0.4797699\ttest: 0.4807022\tbest: 0.4806777 (329)\ttotal: 21.3s\tremaining: 41.5s\n",
      "339:\tlearn: 0.4797436\ttest: 0.4806969\tbest: 0.4806777 (329)\ttotal: 21.3s\tremaining: 41.4s\n",
      "340:\tlearn: 0.4797098\ttest: 0.4806909\tbest: 0.4806777 (329)\ttotal: 21.4s\tremaining: 41.3s\n",
      "341:\tlearn: 0.4796920\ttest: 0.4806885\tbest: 0.4806777 (329)\ttotal: 21.5s\tremaining: 41.3s\n",
      "342:\tlearn: 0.4796606\ttest: 0.4807129\tbest: 0.4806777 (329)\ttotal: 21.5s\tremaining: 41.2s\n",
      "343:\tlearn: 0.4796315\ttest: 0.4807134\tbest: 0.4806777 (329)\ttotal: 21.6s\tremaining: 41.1s\n",
      "344:\tlearn: 0.4796157\ttest: 0.4807163\tbest: 0.4806777 (329)\ttotal: 21.6s\tremaining: 41.1s\n",
      "345:\tlearn: 0.4795803\ttest: 0.4807202\tbest: 0.4806777 (329)\ttotal: 21.7s\tremaining: 41s\n",
      "346:\tlearn: 0.4795582\ttest: 0.4807148\tbest: 0.4806777 (329)\ttotal: 21.8s\tremaining: 41s\n",
      "347:\tlearn: 0.4795243\ttest: 0.4806910\tbest: 0.4806777 (329)\ttotal: 21.8s\tremaining: 40.9s\n",
      "348:\tlearn: 0.4794899\ttest: 0.4806866\tbest: 0.4806777 (329)\ttotal: 21.9s\tremaining: 40.9s\n",
      "349:\tlearn: 0.4794361\ttest: 0.4806848\tbest: 0.4806777 (329)\ttotal: 22s\tremaining: 40.8s\n",
      "350:\tlearn: 0.4794015\ttest: 0.4806870\tbest: 0.4806777 (329)\ttotal: 22s\tremaining: 40.8s\n",
      "351:\tlearn: 0.4793620\ttest: 0.4806873\tbest: 0.4806777 (329)\ttotal: 22.1s\tremaining: 40.7s\n",
      "352:\tlearn: 0.4793408\ttest: 0.4806860\tbest: 0.4806777 (329)\ttotal: 22.2s\tremaining: 40.6s\n",
      "353:\tlearn: 0.4793009\ttest: 0.4806961\tbest: 0.4806777 (329)\ttotal: 22.2s\tremaining: 40.6s\n",
      "354:\tlearn: 0.4792817\ttest: 0.4806999\tbest: 0.4806777 (329)\ttotal: 22.3s\tremaining: 40.5s\n",
      "355:\tlearn: 0.4792372\ttest: 0.4807087\tbest: 0.4806777 (329)\ttotal: 22.3s\tremaining: 40.4s\n",
      "356:\tlearn: 0.4792296\ttest: 0.4807082\tbest: 0.4806777 (329)\ttotal: 22.4s\tremaining: 40.4s\n",
      "357:\tlearn: 0.4791966\ttest: 0.4807165\tbest: 0.4806777 (329)\ttotal: 22.5s\tremaining: 40.3s\n",
      "358:\tlearn: 0.4791691\ttest: 0.4807334\tbest: 0.4806777 (329)\ttotal: 22.5s\tremaining: 40.2s\n",
      "359:\tlearn: 0.4791360\ttest: 0.4807080\tbest: 0.4806777 (329)\ttotal: 22.6s\tremaining: 40.2s\n",
      "360:\tlearn: 0.4791112\ttest: 0.4807198\tbest: 0.4806777 (329)\ttotal: 22.7s\tremaining: 40.1s\n",
      "361:\tlearn: 0.4790764\ttest: 0.4807281\tbest: 0.4806777 (329)\ttotal: 22.7s\tremaining: 40.1s\n",
      "362:\tlearn: 0.4790301\ttest: 0.4807615\tbest: 0.4806777 (329)\ttotal: 22.8s\tremaining: 40s\n",
      "363:\tlearn: 0.4790036\ttest: 0.4807622\tbest: 0.4806777 (329)\ttotal: 22.8s\tremaining: 39.9s\n",
      "364:\tlearn: 0.4789619\ttest: 0.4807654\tbest: 0.4806777 (329)\ttotal: 22.9s\tremaining: 39.8s\n",
      "365:\tlearn: 0.4789353\ttest: 0.4807612\tbest: 0.4806777 (329)\ttotal: 23s\tremaining: 39.8s\n",
      "366:\tlearn: 0.4789065\ttest: 0.4807457\tbest: 0.4806777 (329)\ttotal: 23s\tremaining: 39.7s\n",
      "367:\tlearn: 0.4788882\ttest: 0.4807434\tbest: 0.4806777 (329)\ttotal: 23.1s\tremaining: 39.6s\n",
      "368:\tlearn: 0.4788722\ttest: 0.4807405\tbest: 0.4806777 (329)\ttotal: 23.1s\tremaining: 39.6s\n",
      "369:\tlearn: 0.4788466\ttest: 0.4807413\tbest: 0.4806777 (329)\ttotal: 23.2s\tremaining: 39.5s\n",
      "370:\tlearn: 0.4788140\ttest: 0.4807317\tbest: 0.4806777 (329)\ttotal: 23.3s\tremaining: 39.4s\n",
      "371:\tlearn: 0.4787688\ttest: 0.4807278\tbest: 0.4806777 (329)\ttotal: 23.3s\tremaining: 39.4s\n",
      "372:\tlearn: 0.4787507\ttest: 0.4807266\tbest: 0.4806777 (329)\ttotal: 23.4s\tremaining: 39.3s\n",
      "373:\tlearn: 0.4787379\ttest: 0.4807252\tbest: 0.4806777 (329)\ttotal: 23.4s\tremaining: 39.2s\n",
      "374:\tlearn: 0.4787047\ttest: 0.4807099\tbest: 0.4806777 (329)\ttotal: 23.5s\tremaining: 39.2s\n",
      "375:\tlearn: 0.4786854\ttest: 0.4807178\tbest: 0.4806777 (329)\ttotal: 23.6s\tremaining: 39.1s\n",
      "376:\tlearn: 0.4786574\ttest: 0.4807410\tbest: 0.4806777 (329)\ttotal: 23.6s\tremaining: 39s\n",
      "377:\tlearn: 0.4786220\ttest: 0.4807460\tbest: 0.4806777 (329)\ttotal: 23.7s\tremaining: 39s\n",
      "378:\tlearn: 0.4785842\ttest: 0.4807545\tbest: 0.4806777 (329)\ttotal: 23.7s\tremaining: 38.9s\n",
      "379:\tlearn: 0.4785655\ttest: 0.4807667\tbest: 0.4806777 (329)\ttotal: 23.8s\tremaining: 38.8s\n",
      "380:\tlearn: 0.4785473\ttest: 0.4807573\tbest: 0.4806777 (329)\ttotal: 23.9s\tremaining: 38.8s\n",
      "381:\tlearn: 0.4785183\ttest: 0.4807502\tbest: 0.4806777 (329)\ttotal: 23.9s\tremaining: 38.7s\n",
      "382:\tlearn: 0.4784820\ttest: 0.4807503\tbest: 0.4806777 (329)\ttotal: 24s\tremaining: 38.6s\n",
      "383:\tlearn: 0.4784645\ttest: 0.4807479\tbest: 0.4806777 (329)\ttotal: 24.1s\tremaining: 38.6s\n",
      "384:\tlearn: 0.4784410\ttest: 0.4807300\tbest: 0.4806777 (329)\ttotal: 24.1s\tremaining: 38.5s\n",
      "385:\tlearn: 0.4784158\ttest: 0.4807348\tbest: 0.4806777 (329)\ttotal: 24.2s\tremaining: 38.5s\n",
      "386:\tlearn: 0.4783949\ttest: 0.4807313\tbest: 0.4806777 (329)\ttotal: 24.2s\tremaining: 38.4s\n",
      "387:\tlearn: 0.4783761\ttest: 0.4807157\tbest: 0.4806777 (329)\ttotal: 24.3s\tremaining: 38.3s\n",
      "388:\tlearn: 0.4783495\ttest: 0.4807075\tbest: 0.4806777 (329)\ttotal: 24.4s\tremaining: 38.3s\n",
      "389:\tlearn: 0.4783156\ttest: 0.4806981\tbest: 0.4806777 (329)\ttotal: 24.4s\tremaining: 38.2s\n",
      "390:\tlearn: 0.4782747\ttest: 0.4806881\tbest: 0.4806777 (329)\ttotal: 24.5s\tremaining: 38.2s\n",
      "391:\tlearn: 0.4782191\ttest: 0.4806526\tbest: 0.4806526 (391)\ttotal: 24.6s\tremaining: 38.1s\n",
      "392:\tlearn: 0.4781841\ttest: 0.4806615\tbest: 0.4806526 (391)\ttotal: 24.6s\tremaining: 38s\n",
      "393:\tlearn: 0.4781540\ttest: 0.4806593\tbest: 0.4806526 (391)\ttotal: 24.7s\tremaining: 38s\n",
      "394:\tlearn: 0.4781354\ttest: 0.4806527\tbest: 0.4806526 (391)\ttotal: 24.8s\tremaining: 37.9s\n",
      "395:\tlearn: 0.4781254\ttest: 0.4806573\tbest: 0.4806526 (391)\ttotal: 24.8s\tremaining: 37.9s\n",
      "396:\tlearn: 0.4780920\ttest: 0.4806353\tbest: 0.4806353 (396)\ttotal: 24.9s\tremaining: 37.8s\n",
      "397:\tlearn: 0.4780536\ttest: 0.4806299\tbest: 0.4806299 (397)\ttotal: 25s\tremaining: 37.8s\n",
      "398:\tlearn: 0.4780259\ttest: 0.4806315\tbest: 0.4806299 (397)\ttotal: 25s\tremaining: 37.7s\n",
      "399:\tlearn: 0.4779989\ttest: 0.4806131\tbest: 0.4806131 (399)\ttotal: 25.1s\tremaining: 37.7s\n",
      "400:\tlearn: 0.4779684\ttest: 0.4806058\tbest: 0.4806058 (400)\ttotal: 25.2s\tremaining: 37.6s\n",
      "401:\tlearn: 0.4779411\ttest: 0.4806033\tbest: 0.4806033 (401)\ttotal: 25.2s\tremaining: 37.5s\n",
      "402:\tlearn: 0.4779258\ttest: 0.4806023\tbest: 0.4806023 (402)\ttotal: 25.3s\tremaining: 37.4s\n",
      "403:\tlearn: 0.4779065\ttest: 0.4806105\tbest: 0.4806023 (402)\ttotal: 25.4s\tremaining: 37.4s\n",
      "404:\tlearn: 0.4778779\ttest: 0.4806270\tbest: 0.4806023 (402)\ttotal: 25.4s\tremaining: 37.4s\n",
      "405:\tlearn: 0.4778510\ttest: 0.4806324\tbest: 0.4806023 (402)\ttotal: 25.5s\tremaining: 37.3s\n",
      "406:\tlearn: 0.4778128\ttest: 0.4806048\tbest: 0.4806023 (402)\ttotal: 25.5s\tremaining: 37.2s\n",
      "407:\tlearn: 0.4777810\ttest: 0.4805987\tbest: 0.4805987 (407)\ttotal: 25.6s\tremaining: 37.1s\n",
      "408:\tlearn: 0.4777467\ttest: 0.4805849\tbest: 0.4805849 (408)\ttotal: 25.7s\tremaining: 37.1s\n",
      "409:\tlearn: 0.4777309\ttest: 0.4805796\tbest: 0.4805796 (409)\ttotal: 25.7s\tremaining: 37s\n",
      "410:\tlearn: 0.4777019\ttest: 0.4805842\tbest: 0.4805796 (409)\ttotal: 25.8s\tremaining: 37s\n",
      "411:\tlearn: 0.4776783\ttest: 0.4805900\tbest: 0.4805796 (409)\ttotal: 25.9s\tremaining: 36.9s\n",
      "412:\tlearn: 0.4776461\ttest: 0.4805907\tbest: 0.4805796 (409)\ttotal: 25.9s\tremaining: 36.8s\n",
      "413:\tlearn: 0.4776276\ttest: 0.4805781\tbest: 0.4805781 (413)\ttotal: 26s\tremaining: 36.8s\n",
      "414:\tlearn: 0.4775919\ttest: 0.4805808\tbest: 0.4805781 (413)\ttotal: 26s\tremaining: 36.7s\n",
      "415:\tlearn: 0.4775700\ttest: 0.4805867\tbest: 0.4805781 (413)\ttotal: 26.1s\tremaining: 36.6s\n",
      "416:\tlearn: 0.4775312\ttest: 0.4805759\tbest: 0.4805759 (416)\ttotal: 26.2s\tremaining: 36.6s\n",
      "417:\tlearn: 0.4775223\ttest: 0.4805701\tbest: 0.4805701 (417)\ttotal: 26.2s\tremaining: 36.5s\n",
      "418:\tlearn: 0.4774766\ttest: 0.4805669\tbest: 0.4805669 (418)\ttotal: 26.3s\tremaining: 36.5s\n",
      "419:\tlearn: 0.4774468\ttest: 0.4805756\tbest: 0.4805669 (418)\ttotal: 26.4s\tremaining: 36.4s\n",
      "420:\tlearn: 0.4774248\ttest: 0.4805723\tbest: 0.4805669 (418)\ttotal: 26.4s\tremaining: 36.3s\n",
      "421:\tlearn: 0.4774010\ttest: 0.4805775\tbest: 0.4805669 (418)\ttotal: 26.5s\tremaining: 36.3s\n",
      "422:\tlearn: 0.4773829\ttest: 0.4805841\tbest: 0.4805669 (418)\ttotal: 26.6s\tremaining: 36.2s\n",
      "423:\tlearn: 0.4773579\ttest: 0.4805666\tbest: 0.4805666 (423)\ttotal: 26.6s\tremaining: 36.2s\n",
      "424:\tlearn: 0.4773224\ttest: 0.4805992\tbest: 0.4805666 (423)\ttotal: 26.7s\tremaining: 36.1s\n",
      "425:\tlearn: 0.4773001\ttest: 0.4806008\tbest: 0.4805666 (423)\ttotal: 26.8s\tremaining: 36s\n",
      "426:\tlearn: 0.4772606\ttest: 0.4805969\tbest: 0.4805666 (423)\ttotal: 26.8s\tremaining: 36s\n",
      "427:\tlearn: 0.4772371\ttest: 0.4805953\tbest: 0.4805666 (423)\ttotal: 26.9s\tremaining: 35.9s\n",
      "428:\tlearn: 0.4772162\ttest: 0.4806019\tbest: 0.4805666 (423)\ttotal: 26.9s\tremaining: 35.8s\n",
      "429:\tlearn: 0.4771969\ttest: 0.4806007\tbest: 0.4805666 (423)\ttotal: 27s\tremaining: 35.8s\n",
      "430:\tlearn: 0.4771707\ttest: 0.4805780\tbest: 0.4805666 (423)\ttotal: 27.1s\tremaining: 35.7s\n",
      "431:\tlearn: 0.4771415\ttest: 0.4805686\tbest: 0.4805666 (423)\ttotal: 27.1s\tremaining: 35.7s\n",
      "432:\tlearn: 0.4771250\ttest: 0.4805643\tbest: 0.4805643 (432)\ttotal: 27.2s\tremaining: 35.6s\n",
      "433:\tlearn: 0.4770969\ttest: 0.4805452\tbest: 0.4805452 (433)\ttotal: 27.2s\tremaining: 35.5s\n",
      "434:\tlearn: 0.4770672\ttest: 0.4805526\tbest: 0.4805452 (433)\ttotal: 27.3s\tremaining: 35.5s\n",
      "435:\tlearn: 0.4770457\ttest: 0.4805561\tbest: 0.4805452 (433)\ttotal: 27.4s\tremaining: 35.4s\n",
      "436:\tlearn: 0.4770171\ttest: 0.4805423\tbest: 0.4805423 (436)\ttotal: 27.4s\tremaining: 35.3s\n",
      "437:\tlearn: 0.4769944\ttest: 0.4805386\tbest: 0.4805386 (437)\ttotal: 27.5s\tremaining: 35.3s\n",
      "438:\tlearn: 0.4769460\ttest: 0.4805526\tbest: 0.4805386 (437)\ttotal: 27.5s\tremaining: 35.2s\n",
      "439:\tlearn: 0.4769099\ttest: 0.4805807\tbest: 0.4805386 (437)\ttotal: 27.6s\tremaining: 35.1s\n",
      "440:\tlearn: 0.4768777\ttest: 0.4805816\tbest: 0.4805386 (437)\ttotal: 27.6s\tremaining: 35s\n",
      "441:\tlearn: 0.4768548\ttest: 0.4805743\tbest: 0.4805386 (437)\ttotal: 27.7s\tremaining: 35s\n",
      "442:\tlearn: 0.4768227\ttest: 0.4805942\tbest: 0.4805386 (437)\ttotal: 27.8s\tremaining: 34.9s\n",
      "443:\tlearn: 0.4768050\ttest: 0.4805859\tbest: 0.4805386 (437)\ttotal: 27.8s\tremaining: 34.8s\n",
      "444:\tlearn: 0.4767763\ttest: 0.4805761\tbest: 0.4805386 (437)\ttotal: 27.9s\tremaining: 34.8s\n",
      "445:\tlearn: 0.4767164\ttest: 0.4805959\tbest: 0.4805386 (437)\ttotal: 27.9s\tremaining: 34.7s\n",
      "446:\tlearn: 0.4767034\ttest: 0.4805887\tbest: 0.4805386 (437)\ttotal: 28s\tremaining: 34.7s\n",
      "447:\tlearn: 0.4766704\ttest: 0.4805617\tbest: 0.4805386 (437)\ttotal: 28.1s\tremaining: 34.6s\n",
      "448:\tlearn: 0.4766383\ttest: 0.4805423\tbest: 0.4805386 (437)\ttotal: 28.1s\tremaining: 34.5s\n",
      "449:\tlearn: 0.4766175\ttest: 0.4805474\tbest: 0.4805386 (437)\ttotal: 28.2s\tremaining: 34.5s\n",
      "450:\tlearn: 0.4765749\ttest: 0.4805435\tbest: 0.4805386 (437)\ttotal: 28.3s\tremaining: 34.4s\n",
      "451:\tlearn: 0.4765350\ttest: 0.4805479\tbest: 0.4805386 (437)\ttotal: 28.3s\tremaining: 34.3s\n",
      "452:\tlearn: 0.4765090\ttest: 0.4805494\tbest: 0.4805386 (437)\ttotal: 28.4s\tremaining: 34.3s\n",
      "453:\tlearn: 0.4764933\ttest: 0.4805321\tbest: 0.4805321 (453)\ttotal: 28.5s\tremaining: 34.2s\n",
      "454:\tlearn: 0.4764520\ttest: 0.4805407\tbest: 0.4805321 (453)\ttotal: 28.5s\tremaining: 34.2s\n",
      "455:\tlearn: 0.4764222\ttest: 0.4805403\tbest: 0.4805321 (453)\ttotal: 28.6s\tremaining: 34.1s\n",
      "456:\tlearn: 0.4763977\ttest: 0.4805461\tbest: 0.4805321 (453)\ttotal: 28.6s\tremaining: 34s\n",
      "457:\tlearn: 0.4763802\ttest: 0.4805476\tbest: 0.4805321 (453)\ttotal: 28.7s\tremaining: 33.9s\n",
      "458:\tlearn: 0.4763528\ttest: 0.4805559\tbest: 0.4805321 (453)\ttotal: 28.7s\tremaining: 33.9s\n",
      "459:\tlearn: 0.4763326\ttest: 0.4805435\tbest: 0.4805321 (453)\ttotal: 28.8s\tremaining: 33.8s\n",
      "460:\tlearn: 0.4762966\ttest: 0.4805548\tbest: 0.4805321 (453)\ttotal: 28.9s\tremaining: 33.8s\n",
      "461:\tlearn: 0.4762644\ttest: 0.4805526\tbest: 0.4805321 (453)\ttotal: 28.9s\tremaining: 33.7s\n",
      "462:\tlearn: 0.4762322\ttest: 0.4805655\tbest: 0.4805321 (453)\ttotal: 29s\tremaining: 33.7s\n",
      "463:\tlearn: 0.4762167\ttest: 0.4805551\tbest: 0.4805321 (453)\ttotal: 29.1s\tremaining: 33.6s\n",
      "464:\tlearn: 0.4761780\ttest: 0.4805733\tbest: 0.4805321 (453)\ttotal: 29.1s\tremaining: 33.5s\n",
      "465:\tlearn: 0.4761560\ttest: 0.4805641\tbest: 0.4805321 (453)\ttotal: 29.2s\tremaining: 33.5s\n",
      "466:\tlearn: 0.4761152\ttest: 0.4805517\tbest: 0.4805321 (453)\ttotal: 29.3s\tremaining: 33.4s\n",
      "467:\tlearn: 0.4760936\ttest: 0.4805467\tbest: 0.4805321 (453)\ttotal: 29.3s\tremaining: 33.3s\n",
      "468:\tlearn: 0.4760716\ttest: 0.4805411\tbest: 0.4805321 (453)\ttotal: 29.4s\tremaining: 33.3s\n",
      "469:\tlearn: 0.4760428\ttest: 0.4805455\tbest: 0.4805321 (453)\ttotal: 29.5s\tremaining: 33.2s\n",
      "470:\tlearn: 0.4759997\ttest: 0.4805555\tbest: 0.4805321 (453)\ttotal: 29.5s\tremaining: 33.2s\n",
      "471:\tlearn: 0.4759860\ttest: 0.4805706\tbest: 0.4805321 (453)\ttotal: 29.6s\tremaining: 33.1s\n",
      "472:\tlearn: 0.4759721\ttest: 0.4805724\tbest: 0.4805321 (453)\ttotal: 29.6s\tremaining: 33s\n",
      "473:\tlearn: 0.4759344\ttest: 0.4805462\tbest: 0.4805321 (453)\ttotal: 29.7s\tremaining: 33s\n",
      "474:\tlearn: 0.4759178\ttest: 0.4805322\tbest: 0.4805321 (453)\ttotal: 29.8s\tremaining: 32.9s\n",
      "475:\tlearn: 0.4758814\ttest: 0.4805433\tbest: 0.4805321 (453)\ttotal: 29.8s\tremaining: 32.8s\n",
      "476:\tlearn: 0.4758539\ttest: 0.4805299\tbest: 0.4805299 (476)\ttotal: 29.9s\tremaining: 32.8s\n",
      "477:\tlearn: 0.4758353\ttest: 0.4805340\tbest: 0.4805299 (476)\ttotal: 29.9s\tremaining: 32.7s\n",
      "478:\tlearn: 0.4758134\ttest: 0.4805282\tbest: 0.4805282 (478)\ttotal: 30s\tremaining: 32.6s\n",
      "479:\tlearn: 0.4757985\ttest: 0.4805277\tbest: 0.4805277 (479)\ttotal: 30.1s\tremaining: 32.6s\n",
      "480:\tlearn: 0.4757593\ttest: 0.4805047\tbest: 0.4805047 (480)\ttotal: 30.1s\tremaining: 32.5s\n",
      "481:\tlearn: 0.4757450\ttest: 0.4805024\tbest: 0.4805024 (481)\ttotal: 30.2s\tremaining: 32.4s\n",
      "482:\tlearn: 0.4757198\ttest: 0.4804944\tbest: 0.4804944 (482)\ttotal: 30.3s\tremaining: 32.4s\n",
      "483:\tlearn: 0.4756972\ttest: 0.4804874\tbest: 0.4804874 (483)\ttotal: 30.3s\tremaining: 32.3s\n",
      "484:\tlearn: 0.4756771\ttest: 0.4804724\tbest: 0.4804724 (484)\ttotal: 30.4s\tremaining: 32.3s\n",
      "485:\tlearn: 0.4756605\ttest: 0.4804688\tbest: 0.4804688 (485)\ttotal: 30.5s\tremaining: 32.2s\n",
      "486:\tlearn: 0.4756467\ttest: 0.4804739\tbest: 0.4804688 (485)\ttotal: 30.5s\tremaining: 32.2s\n",
      "487:\tlearn: 0.4756270\ttest: 0.4804744\tbest: 0.4804688 (485)\ttotal: 30.6s\tremaining: 32.1s\n",
      "488:\tlearn: 0.4755986\ttest: 0.4804859\tbest: 0.4804688 (485)\ttotal: 30.7s\tremaining: 32s\n",
      "489:\tlearn: 0.4755696\ttest: 0.4804961\tbest: 0.4804688 (485)\ttotal: 30.7s\tremaining: 32s\n",
      "490:\tlearn: 0.4755474\ttest: 0.4804945\tbest: 0.4804688 (485)\ttotal: 30.8s\tremaining: 31.9s\n",
      "491:\tlearn: 0.4755150\ttest: 0.4804849\tbest: 0.4804688 (485)\ttotal: 30.8s\tremaining: 31.8s\n",
      "492:\tlearn: 0.4755025\ttest: 0.4804861\tbest: 0.4804688 (485)\ttotal: 30.9s\tremaining: 31.8s\n",
      "493:\tlearn: 0.4754875\ttest: 0.4804809\tbest: 0.4804688 (485)\ttotal: 31s\tremaining: 31.7s\n",
      "494:\tlearn: 0.4754597\ttest: 0.4804803\tbest: 0.4804688 (485)\ttotal: 31s\tremaining: 31.6s\n",
      "495:\tlearn: 0.4754388\ttest: 0.4804887\tbest: 0.4804688 (485)\ttotal: 31.1s\tremaining: 31.6s\n",
      "496:\tlearn: 0.4754132\ttest: 0.4804828\tbest: 0.4804688 (485)\ttotal: 31.1s\tremaining: 31.5s\n",
      "497:\tlearn: 0.4753989\ttest: 0.4804781\tbest: 0.4804688 (485)\ttotal: 31.2s\tremaining: 31.5s\n",
      "498:\tlearn: 0.4753770\ttest: 0.4804812\tbest: 0.4804688 (485)\ttotal: 31.3s\tremaining: 31.4s\n",
      "499:\tlearn: 0.4753474\ttest: 0.4804842\tbest: 0.4804688 (485)\ttotal: 31.3s\tremaining: 31.3s\n",
      "500:\tlearn: 0.4752889\ttest: 0.4804709\tbest: 0.4804688 (485)\ttotal: 31.4s\tremaining: 31.2s\n",
      "501:\tlearn: 0.4752559\ttest: 0.4804762\tbest: 0.4804688 (485)\ttotal: 31.4s\tremaining: 31.2s\n",
      "502:\tlearn: 0.4752367\ttest: 0.4804760\tbest: 0.4804688 (485)\ttotal: 31.5s\tremaining: 31.1s\n",
      "503:\tlearn: 0.4752124\ttest: 0.4804768\tbest: 0.4804688 (485)\ttotal: 31.6s\tremaining: 31.1s\n",
      "504:\tlearn: 0.4751935\ttest: 0.4804839\tbest: 0.4804688 (485)\ttotal: 31.6s\tremaining: 31s\n",
      "505:\tlearn: 0.4751689\ttest: 0.4804770\tbest: 0.4804688 (485)\ttotal: 31.7s\tremaining: 30.9s\n",
      "506:\tlearn: 0.4751397\ttest: 0.4804695\tbest: 0.4804688 (485)\ttotal: 31.7s\tremaining: 30.9s\n",
      "507:\tlearn: 0.4751050\ttest: 0.4804822\tbest: 0.4804688 (485)\ttotal: 31.8s\tremaining: 30.8s\n",
      "508:\tlearn: 0.4750746\ttest: 0.4804699\tbest: 0.4804688 (485)\ttotal: 31.9s\tremaining: 30.7s\n",
      "509:\tlearn: 0.4750577\ttest: 0.4804818\tbest: 0.4804688 (485)\ttotal: 31.9s\tremaining: 30.7s\n",
      "510:\tlearn: 0.4750307\ttest: 0.4804985\tbest: 0.4804688 (485)\ttotal: 32s\tremaining: 30.6s\n",
      "511:\tlearn: 0.4750177\ttest: 0.4805052\tbest: 0.4804688 (485)\ttotal: 32.1s\tremaining: 30.6s\n",
      "512:\tlearn: 0.4749843\ttest: 0.4805323\tbest: 0.4804688 (485)\ttotal: 32.1s\tremaining: 30.5s\n",
      "513:\tlearn: 0.4749666\ttest: 0.4805393\tbest: 0.4804688 (485)\ttotal: 32.2s\tremaining: 30.4s\n",
      "514:\tlearn: 0.4749456\ttest: 0.4805560\tbest: 0.4804688 (485)\ttotal: 32.2s\tremaining: 30.4s\n",
      "515:\tlearn: 0.4749216\ttest: 0.4805696\tbest: 0.4804688 (485)\ttotal: 32.3s\tremaining: 30.3s\n",
      "516:\tlearn: 0.4749058\ttest: 0.4805730\tbest: 0.4804688 (485)\ttotal: 32.4s\tremaining: 30.2s\n",
      "517:\tlearn: 0.4748905\ttest: 0.4805941\tbest: 0.4804688 (485)\ttotal: 32.4s\tremaining: 30.2s\n",
      "518:\tlearn: 0.4748660\ttest: 0.4805960\tbest: 0.4804688 (485)\ttotal: 32.5s\tremaining: 30.1s\n",
      "519:\tlearn: 0.4748318\ttest: 0.4805964\tbest: 0.4804688 (485)\ttotal: 32.6s\tremaining: 30.1s\n",
      "520:\tlearn: 0.4748013\ttest: 0.4805900\tbest: 0.4804688 (485)\ttotal: 32.6s\tremaining: 30s\n",
      "521:\tlearn: 0.4747736\ttest: 0.4805969\tbest: 0.4804688 (485)\ttotal: 32.7s\tremaining: 29.9s\n",
      "522:\tlearn: 0.4747450\ttest: 0.4805858\tbest: 0.4804688 (485)\ttotal: 32.8s\tremaining: 29.9s\n",
      "523:\tlearn: 0.4747156\ttest: 0.4805930\tbest: 0.4804688 (485)\ttotal: 32.8s\tremaining: 29.8s\n",
      "524:\tlearn: 0.4746909\ttest: 0.4805870\tbest: 0.4804688 (485)\ttotal: 32.9s\tremaining: 29.8s\n",
      "525:\tlearn: 0.4746766\ttest: 0.4805885\tbest: 0.4804688 (485)\ttotal: 33s\tremaining: 29.7s\n",
      "526:\tlearn: 0.4746587\ttest: 0.4805831\tbest: 0.4804688 (485)\ttotal: 33s\tremaining: 29.6s\n",
      "527:\tlearn: 0.4746027\ttest: 0.4806143\tbest: 0.4804688 (485)\ttotal: 33.1s\tremaining: 29.6s\n",
      "528:\tlearn: 0.4745715\ttest: 0.4806161\tbest: 0.4804688 (485)\ttotal: 33.1s\tremaining: 29.5s\n",
      "529:\tlearn: 0.4745426\ttest: 0.4806037\tbest: 0.4804688 (485)\ttotal: 33.2s\tremaining: 29.4s\n",
      "530:\tlearn: 0.4745189\ttest: 0.4806011\tbest: 0.4804688 (485)\ttotal: 33.2s\tremaining: 29.4s\n",
      "531:\tlearn: 0.4744975\ttest: 0.4805752\tbest: 0.4804688 (485)\ttotal: 33.3s\tremaining: 29.3s\n",
      "532:\tlearn: 0.4744702\ttest: 0.4805730\tbest: 0.4804688 (485)\ttotal: 33.4s\tremaining: 29.2s\n",
      "533:\tlearn: 0.4744322\ttest: 0.4805452\tbest: 0.4804688 (485)\ttotal: 33.4s\tremaining: 29.2s\n",
      "534:\tlearn: 0.4743969\ttest: 0.4805689\tbest: 0.4804688 (485)\ttotal: 33.5s\tremaining: 29.1s\n",
      "535:\tlearn: 0.4743612\ttest: 0.4805699\tbest: 0.4804688 (485)\ttotal: 33.6s\tremaining: 29.1s\n",
      "536:\tlearn: 0.4743381\ttest: 0.4805495\tbest: 0.4804688 (485)\ttotal: 33.6s\tremaining: 29s\n",
      "537:\tlearn: 0.4742912\ttest: 0.4805584\tbest: 0.4804688 (485)\ttotal: 33.7s\tremaining: 28.9s\n",
      "538:\tlearn: 0.4742622\ttest: 0.4805446\tbest: 0.4804688 (485)\ttotal: 33.7s\tremaining: 28.9s\n",
      "539:\tlearn: 0.4742446\ttest: 0.4805485\tbest: 0.4804688 (485)\ttotal: 33.8s\tremaining: 28.8s\n",
      "540:\tlearn: 0.4742146\ttest: 0.4805587\tbest: 0.4804688 (485)\ttotal: 33.9s\tremaining: 28.7s\n",
      "541:\tlearn: 0.4741858\ttest: 0.4805591\tbest: 0.4804688 (485)\ttotal: 33.9s\tremaining: 28.7s\n",
      "542:\tlearn: 0.4741672\ttest: 0.4805612\tbest: 0.4804688 (485)\ttotal: 34s\tremaining: 28.6s\n",
      "543:\tlearn: 0.4741078\ttest: 0.4805592\tbest: 0.4804688 (485)\ttotal: 34.1s\tremaining: 28.5s\n",
      "544:\tlearn: 0.4740863\ttest: 0.4805667\tbest: 0.4804688 (485)\ttotal: 34.1s\tremaining: 28.5s\n",
      "545:\tlearn: 0.4740519\ttest: 0.4805609\tbest: 0.4804688 (485)\ttotal: 34.2s\tremaining: 28.4s\n",
      "546:\tlearn: 0.4740291\ttest: 0.4805592\tbest: 0.4804688 (485)\ttotal: 34.2s\tremaining: 28.3s\n",
      "547:\tlearn: 0.4740055\ttest: 0.4805672\tbest: 0.4804688 (485)\ttotal: 34.3s\tremaining: 28.3s\n",
      "548:\tlearn: 0.4739776\ttest: 0.4805736\tbest: 0.4804688 (485)\ttotal: 34.4s\tremaining: 28.2s\n",
      "549:\tlearn: 0.4739610\ttest: 0.4805703\tbest: 0.4804688 (485)\ttotal: 34.4s\tremaining: 28.2s\n",
      "550:\tlearn: 0.4739412\ttest: 0.4805692\tbest: 0.4804688 (485)\ttotal: 34.5s\tremaining: 28.1s\n",
      "551:\tlearn: 0.4739128\ttest: 0.4805678\tbest: 0.4804688 (485)\ttotal: 34.5s\tremaining: 28s\n",
      "552:\tlearn: 0.4738971\ttest: 0.4805571\tbest: 0.4804688 (485)\ttotal: 34.6s\tremaining: 28s\n",
      "553:\tlearn: 0.4738792\ttest: 0.4805645\tbest: 0.4804688 (485)\ttotal: 34.6s\tremaining: 27.9s\n",
      "554:\tlearn: 0.4738550\ttest: 0.4805727\tbest: 0.4804688 (485)\ttotal: 34.7s\tremaining: 27.8s\n",
      "555:\tlearn: 0.4738374\ttest: 0.4805848\tbest: 0.4804688 (485)\ttotal: 34.8s\tremaining: 27.8s\n",
      "556:\tlearn: 0.4738067\ttest: 0.4805850\tbest: 0.4804688 (485)\ttotal: 34.8s\tremaining: 27.7s\n",
      "557:\tlearn: 0.4737887\ttest: 0.4805963\tbest: 0.4804688 (485)\ttotal: 34.9s\tremaining: 27.6s\n",
      "558:\tlearn: 0.4737744\ttest: 0.4805931\tbest: 0.4804688 (485)\ttotal: 35s\tremaining: 27.6s\n",
      "559:\tlearn: 0.4737413\ttest: 0.4806009\tbest: 0.4804688 (485)\ttotal: 35s\tremaining: 27.5s\n",
      "560:\tlearn: 0.4737147\ttest: 0.4805961\tbest: 0.4804688 (485)\ttotal: 35.1s\tremaining: 27.5s\n",
      "561:\tlearn: 0.4736899\ttest: 0.4805846\tbest: 0.4804688 (485)\ttotal: 35.1s\tremaining: 27.4s\n",
      "562:\tlearn: 0.4736589\ttest: 0.4805938\tbest: 0.4804688 (485)\ttotal: 35.2s\tremaining: 27.3s\n",
      "563:\tlearn: 0.4736226\ttest: 0.4805966\tbest: 0.4804688 (485)\ttotal: 35.3s\tremaining: 27.3s\n",
      "564:\tlearn: 0.4736026\ttest: 0.4805824\tbest: 0.4804688 (485)\ttotal: 35.3s\tremaining: 27.2s\n",
      "565:\tlearn: 0.4735784\ttest: 0.4805899\tbest: 0.4804688 (485)\ttotal: 35.4s\tremaining: 27.2s\n",
      "566:\tlearn: 0.4735552\ttest: 0.4805877\tbest: 0.4804688 (485)\ttotal: 35.5s\tremaining: 27.1s\n",
      "567:\tlearn: 0.4735404\ttest: 0.4805802\tbest: 0.4804688 (485)\ttotal: 35.5s\tremaining: 27s\n",
      "568:\tlearn: 0.4735185\ttest: 0.4805758\tbest: 0.4804688 (485)\ttotal: 35.6s\tremaining: 27s\n",
      "569:\tlearn: 0.4735032\ttest: 0.4805692\tbest: 0.4804688 (485)\ttotal: 35.7s\tremaining: 26.9s\n",
      "570:\tlearn: 0.4734815\ttest: 0.4805742\tbest: 0.4804688 (485)\ttotal: 35.8s\tremaining: 26.9s\n",
      "571:\tlearn: 0.4734639\ttest: 0.4805755\tbest: 0.4804688 (485)\ttotal: 35.8s\tremaining: 26.8s\n",
      "572:\tlearn: 0.4734468\ttest: 0.4805793\tbest: 0.4804688 (485)\ttotal: 35.9s\tremaining: 26.7s\n",
      "573:\tlearn: 0.4734143\ttest: 0.4805671\tbest: 0.4804688 (485)\ttotal: 36s\tremaining: 26.7s\n",
      "574:\tlearn: 0.4733931\ttest: 0.4805624\tbest: 0.4804688 (485)\ttotal: 36s\tremaining: 26.6s\n",
      "575:\tlearn: 0.4733561\ttest: 0.4805633\tbest: 0.4804688 (485)\ttotal: 36.1s\tremaining: 26.6s\n",
      "576:\tlearn: 0.4733336\ttest: 0.4805828\tbest: 0.4804688 (485)\ttotal: 36.1s\tremaining: 26.5s\n",
      "577:\tlearn: 0.4733040\ttest: 0.4805860\tbest: 0.4804688 (485)\ttotal: 36.2s\tremaining: 26.4s\n",
      "578:\tlearn: 0.4732839\ttest: 0.4805953\tbest: 0.4804688 (485)\ttotal: 36.3s\tremaining: 26.4s\n",
      "579:\tlearn: 0.4732733\ttest: 0.4806033\tbest: 0.4804688 (485)\ttotal: 36.4s\tremaining: 26.3s\n",
      "580:\tlearn: 0.4732564\ttest: 0.4806029\tbest: 0.4804688 (485)\ttotal: 36.4s\tremaining: 26.3s\n",
      "581:\tlearn: 0.4732463\ttest: 0.4805951\tbest: 0.4804688 (485)\ttotal: 36.5s\tremaining: 26.2s\n",
      "582:\tlearn: 0.4732242\ttest: 0.4805888\tbest: 0.4804688 (485)\ttotal: 36.5s\tremaining: 26.1s\n",
      "583:\tlearn: 0.4731849\ttest: 0.4805856\tbest: 0.4804688 (485)\ttotal: 36.6s\tremaining: 26.1s\n",
      "584:\tlearn: 0.4731656\ttest: 0.4805898\tbest: 0.4804688 (485)\ttotal: 36.7s\tremaining: 26s\n",
      "585:\tlearn: 0.4731450\ttest: 0.4805617\tbest: 0.4804688 (485)\ttotal: 36.7s\tremaining: 25.9s\n",
      "bestTest = 0.4804687928\n",
      "bestIteration = 485\n",
      "Shrink model to first 486 iterations.\n",
      "Model is fitted: True\n",
      "Model params:\n",
      "{'iterations': 1000, 'learning_rate': 0.1, 'loss_function': 'CrossEntropy', 'use_best_model': True, 'custom_loss': ['AUC'], 'task_type': 'GPU', 'early_stopping_rounds': 100}\n"
     ]
    }
   ],
   "source": [
    "from catboost import CatBoostClassifier\n",
    "model = CatBoostClassifier(\n",
    "    iterations=1000,\n",
    "    learning_rate=0.1,\n",
    "    loss_function='CrossEntropy',\n",
    "    custom_loss=['AUC'],\n",
    "    use_best_model=True,\n",
    "    task_type='GPU',\n",
    "    early_stopping_rounds=100,\n",
    "#     class_weights = [1, 2.3]\n",
    ")\n",
    "model.fit(\n",
    "    X_train, y_train,\n",
    "    cat_features=cat_features,\n",
    "    eval_set=(X_validation, y_validation),\n",
    "    verbose=True\n",
    ")\n",
    "print('Model is fitted: ' + str(model.is_fitted()))\n",
    "print('Model params:')\n",
    "print(model.get_params())"
   ]
  },
  {
   "cell_type": "code",
   "execution_count": 188,
   "metadata": {},
   "outputs": [],
   "source": [
    "from catboost.utils import get_roc_curve\n",
    "import sklearn\n",
    "from sklearn import metrics\n",
    "from catboost import *\n",
    "\n",
    "eval_pool = Pool(X_validation, y_validation, cat_features=cat_features)\n",
    "curve = get_roc_curve(model, eval_pool)\n",
    "(fpr, tpr, thresholds) = curve\n",
    "roc_auc = sklearn.metrics.auc(fpr, tpr)\n"
   ]
  },
  {
   "cell_type": "code",
   "execution_count": 189,
   "metadata": {},
   "outputs": [
    {
     "data": {
      "text/plain": [
       "0.6841496611689717"
      ]
     },
     "execution_count": 189,
     "metadata": {},
     "output_type": "execute_result"
    }
   ],
   "source": [
    "roc_auc"
   ]
  },
  {
   "cell_type": "code",
   "execution_count": 150,
   "metadata": {},
   "outputs": [
    {
     "data": {
      "text/plain": [
       "array([[0.72468806, 0.27531194],\n",
       "       [0.64436694, 0.35563306],\n",
       "       [0.73177933, 0.26822067],\n",
       "       ...,\n",
       "       [0.77987674, 0.22012326],\n",
       "       [0.67029277, 0.32970723],\n",
       "       [0.87840308, 0.12159692]])"
      ]
     },
     "execution_count": 150,
     "metadata": {},
     "output_type": "execute_result"
    }
   ],
   "source": [
    "model.predict_proba(test)"
   ]
  },
  {
   "cell_type": "code",
   "execution_count": 166,
   "metadata": {},
   "outputs": [],
   "source": [
    "submission = pd.DataFrame()\n",
    "submission['UniqueID'] = test_df.UniqueID\n",
    "submission['loan_default'] = list(model.predict_proba(test)[:,1])\n",
    "submission.to_csv('submission_early_stopping_19.csv', index=False)"
   ]
  },
  {
   "cell_type": "code",
   "execution_count": 62,
   "metadata": {},
   "outputs": [],
   "source": [
    "# model.get_feature_importance?"
   ]
  },
  {
   "cell_type": "markdown",
   "metadata": {},
   "source": [
    "### Light GBM"
   ]
  },
  {
   "cell_type": "code",
   "execution_count": 167,
   "metadata": {},
   "outputs": [],
   "source": [
    "params = {\n",
    "    'objective' :'binary',\n",
    "    'learning_rate' : 0.02,\n",
    "    'num_leaves' : 76,\n",
    "    'feature_fraction': 0.64, \n",
    "    'bagging_fraction': 0.8, \n",
    "    'bagging_freq':1,\n",
    "    'boosting_type' : 'gbdt',\n",
    "    'metric': 'binary_logloss'\n",
    "}"
   ]
  },
  {
   "cell_type": "markdown",
   "metadata": {},
   "source": [
    "### Convert string to int label encoder"
   ]
  },
  {
   "cell_type": "code",
   "execution_count": 168,
   "metadata": {},
   "outputs": [
    {
     "name": "stderr",
     "output_type": "stream",
     "text": [
      "C:\\Users\\Aditya\\AppData\\Roaming\\Python\\Python37\\site-packages\\ipykernel_launcher.py:3: SettingWithCopyWarning: \n",
      "A value is trying to be set on a copy of a slice from a DataFrame.\n",
      "Try using .loc[row_indexer,col_indexer] = value instead\n",
      "\n",
      "See the caveats in the documentation: http://pandas.pydata.org/pandas-docs/stable/indexing.html#indexing-view-versus-copy\n",
      "  This is separate from the ipykernel package so we can avoid doing imports until\n",
      "C:\\Users\\Aditya\\AppData\\Roaming\\Python\\Python37\\site-packages\\ipykernel_launcher.py:4: SettingWithCopyWarning: \n",
      "A value is trying to be set on a copy of a slice from a DataFrame.\n",
      "Try using .loc[row_indexer,col_indexer] = value instead\n",
      "\n",
      "See the caveats in the documentation: http://pandas.pydata.org/pandas-docs/stable/indexing.html#indexing-view-versus-copy\n",
      "  after removing the cwd from sys.path.\n"
     ]
    }
   ],
   "source": [
    "dd = list(train_df['Employment.Type'].unique())\n",
    "emp = dict(zip(dd, [i for i in range(len(dd))]))\n",
    "X_train['Employment.Type'] = X_train['Employment.Type'].apply(lambda x: emp[x])\n",
    "X_validation['Employment.Type'] = X_validation['Employment.Type'].apply(lambda x: emp[x])"
   ]
  },
  {
   "cell_type": "code",
   "execution_count": 169,
   "metadata": {},
   "outputs": [],
   "source": [
    "test['Employment.Type'] = test['Employment.Type'].apply(lambda x: emp[x])"
   ]
  },
  {
   "cell_type": "code",
   "execution_count": 170,
   "metadata": {},
   "outputs": [
    {
     "ename": "KeyError",
     "evalue": "'PERFORM_CNS.SCORE.DESCRIPTION'",
     "output_type": "error",
     "traceback": [
      "\u001b[1;31m---------------------------------------------------------------------------\u001b[0m",
      "\u001b[1;31mKeyError\u001b[0m                                  Traceback (most recent call last)",
      "\u001b[1;32m~\\AppData\\Roaming\\Python\\Python37\\site-packages\\pandas\\core\\indexes\\base.py\u001b[0m in \u001b[0;36mget_loc\u001b[1;34m(self, key, method, tolerance)\u001b[0m\n\u001b[0;32m   2601\u001b[0m             \u001b[1;32mtry\u001b[0m\u001b[1;33m:\u001b[0m\u001b[1;33m\u001b[0m\u001b[1;33m\u001b[0m\u001b[0m\n\u001b[1;32m-> 2602\u001b[1;33m                 \u001b[1;32mreturn\u001b[0m \u001b[0mself\u001b[0m\u001b[1;33m.\u001b[0m\u001b[0m_engine\u001b[0m\u001b[1;33m.\u001b[0m\u001b[0mget_loc\u001b[0m\u001b[1;33m(\u001b[0m\u001b[0mkey\u001b[0m\u001b[1;33m)\u001b[0m\u001b[1;33m\u001b[0m\u001b[1;33m\u001b[0m\u001b[0m\n\u001b[0m\u001b[0;32m   2603\u001b[0m             \u001b[1;32mexcept\u001b[0m \u001b[0mKeyError\u001b[0m\u001b[1;33m:\u001b[0m\u001b[1;33m\u001b[0m\u001b[1;33m\u001b[0m\u001b[0m\n",
      "\u001b[1;32mpandas\\_libs\\index.pyx\u001b[0m in \u001b[0;36mpandas._libs.index.IndexEngine.get_loc\u001b[1;34m()\u001b[0m\n",
      "\u001b[1;32mpandas\\_libs\\index.pyx\u001b[0m in \u001b[0;36mpandas._libs.index.IndexEngine.get_loc\u001b[1;34m()\u001b[0m\n",
      "\u001b[1;32mpandas\\_libs\\hashtable_class_helper.pxi\u001b[0m in \u001b[0;36mpandas._libs.hashtable.PyObjectHashTable.get_item\u001b[1;34m()\u001b[0m\n",
      "\u001b[1;32mpandas\\_libs\\hashtable_class_helper.pxi\u001b[0m in \u001b[0;36mpandas._libs.hashtable.PyObjectHashTable.get_item\u001b[1;34m()\u001b[0m\n",
      "\u001b[1;31mKeyError\u001b[0m: 'PERFORM_CNS.SCORE.DESCRIPTION'",
      "\nDuring handling of the above exception, another exception occurred:\n",
      "\u001b[1;31mKeyError\u001b[0m                                  Traceback (most recent call last)",
      "\u001b[1;32m<ipython-input-170-3c058581be2d>\u001b[0m in \u001b[0;36m<module>\u001b[1;34m\u001b[0m\n\u001b[1;32m----> 1\u001b[1;33m \u001b[0mcns\u001b[0m \u001b[1;33m=\u001b[0m \u001b[0mlist\u001b[0m\u001b[1;33m(\u001b[0m\u001b[0mtrain_df\u001b[0m\u001b[1;33m[\u001b[0m\u001b[1;34m'PERFORM_CNS.SCORE.DESCRIPTION'\u001b[0m\u001b[1;33m]\u001b[0m\u001b[1;33m.\u001b[0m\u001b[0munique\u001b[0m\u001b[1;33m(\u001b[0m\u001b[1;33m)\u001b[0m\u001b[1;33m)\u001b[0m\u001b[1;33m\u001b[0m\u001b[1;33m\u001b[0m\u001b[0m\n\u001b[0m\u001b[0;32m      2\u001b[0m \u001b[0mcns_score\u001b[0m \u001b[1;33m=\u001b[0m \u001b[0mdict\u001b[0m\u001b[1;33m(\u001b[0m\u001b[0mzip\u001b[0m\u001b[1;33m(\u001b[0m\u001b[0mcns\u001b[0m\u001b[1;33m,\u001b[0m \u001b[1;33m[\u001b[0m\u001b[0mi\u001b[0m \u001b[1;32mfor\u001b[0m \u001b[0mi\u001b[0m \u001b[1;32min\u001b[0m \u001b[0mrange\u001b[0m\u001b[1;33m(\u001b[0m\u001b[0mlen\u001b[0m\u001b[1;33m(\u001b[0m\u001b[0mcns\u001b[0m\u001b[1;33m)\u001b[0m\u001b[1;33m)\u001b[0m\u001b[1;33m]\u001b[0m\u001b[1;33m)\u001b[0m\u001b[1;33m)\u001b[0m\u001b[1;33m\u001b[0m\u001b[1;33m\u001b[0m\u001b[0m\n\u001b[0;32m      3\u001b[0m \u001b[0mX_train\u001b[0m\u001b[1;33m[\u001b[0m\u001b[1;34m'PERFORM_CNS.SCORE.DESCRIPTION'\u001b[0m\u001b[1;33m]\u001b[0m \u001b[1;33m=\u001b[0m \u001b[0mX_train\u001b[0m\u001b[1;33m[\u001b[0m\u001b[1;34m'PERFORM_CNS.SCORE.DESCRIPTION'\u001b[0m\u001b[1;33m]\u001b[0m\u001b[1;33m.\u001b[0m\u001b[0mapply\u001b[0m\u001b[1;33m(\u001b[0m\u001b[1;32mlambda\u001b[0m \u001b[0mx\u001b[0m\u001b[1;33m:\u001b[0m \u001b[0mcns_score\u001b[0m\u001b[1;33m[\u001b[0m\u001b[0mx\u001b[0m\u001b[1;33m]\u001b[0m\u001b[1;33m)\u001b[0m\u001b[1;33m\u001b[0m\u001b[1;33m\u001b[0m\u001b[0m\n\u001b[0;32m      4\u001b[0m \u001b[0mX_validation\u001b[0m\u001b[1;33m[\u001b[0m\u001b[1;34m'PERFORM_CNS.SCORE.DESCRIPTION'\u001b[0m\u001b[1;33m]\u001b[0m \u001b[1;33m=\u001b[0m \u001b[0mX_validation\u001b[0m\u001b[1;33m[\u001b[0m\u001b[1;34m'PERFORM_CNS.SCORE.DESCRIPTION'\u001b[0m\u001b[1;33m]\u001b[0m\u001b[1;33m.\u001b[0m\u001b[0mapply\u001b[0m\u001b[1;33m(\u001b[0m\u001b[1;32mlambda\u001b[0m \u001b[0mx\u001b[0m\u001b[1;33m:\u001b[0m \u001b[0mcns_score\u001b[0m\u001b[1;33m[\u001b[0m\u001b[0mx\u001b[0m\u001b[1;33m]\u001b[0m\u001b[1;33m)\u001b[0m\u001b[1;33m\u001b[0m\u001b[1;33m\u001b[0m\u001b[0m\n\u001b[0;32m      5\u001b[0m \u001b[0mtest\u001b[0m\u001b[1;33m[\u001b[0m\u001b[1;34m'PERFORM_CNS.SCORE.DESCRIPTION'\u001b[0m\u001b[1;33m]\u001b[0m \u001b[1;33m=\u001b[0m \u001b[0mtest\u001b[0m\u001b[1;33m[\u001b[0m\u001b[1;34m'PERFORM_CNS.SCORE.DESCRIPTION'\u001b[0m\u001b[1;33m]\u001b[0m\u001b[1;33m.\u001b[0m\u001b[0mapply\u001b[0m\u001b[1;33m(\u001b[0m\u001b[1;32mlambda\u001b[0m \u001b[0mx\u001b[0m\u001b[1;33m:\u001b[0m \u001b[0mcns_score\u001b[0m\u001b[1;33m[\u001b[0m\u001b[0mx\u001b[0m\u001b[1;33m]\u001b[0m\u001b[1;33m)\u001b[0m\u001b[1;33m\u001b[0m\u001b[1;33m\u001b[0m\u001b[0m\n",
      "\u001b[1;32m~\\AppData\\Roaming\\Python\\Python37\\site-packages\\pandas\\core\\frame.py\u001b[0m in \u001b[0;36m__getitem__\u001b[1;34m(self, key)\u001b[0m\n\u001b[0;32m   2915\u001b[0m             \u001b[1;32mif\u001b[0m \u001b[0mself\u001b[0m\u001b[1;33m.\u001b[0m\u001b[0mcolumns\u001b[0m\u001b[1;33m.\u001b[0m\u001b[0mnlevels\u001b[0m \u001b[1;33m>\u001b[0m \u001b[1;36m1\u001b[0m\u001b[1;33m:\u001b[0m\u001b[1;33m\u001b[0m\u001b[1;33m\u001b[0m\u001b[0m\n\u001b[0;32m   2916\u001b[0m                 \u001b[1;32mreturn\u001b[0m \u001b[0mself\u001b[0m\u001b[1;33m.\u001b[0m\u001b[0m_getitem_multilevel\u001b[0m\u001b[1;33m(\u001b[0m\u001b[0mkey\u001b[0m\u001b[1;33m)\u001b[0m\u001b[1;33m\u001b[0m\u001b[1;33m\u001b[0m\u001b[0m\n\u001b[1;32m-> 2917\u001b[1;33m             \u001b[0mindexer\u001b[0m \u001b[1;33m=\u001b[0m \u001b[0mself\u001b[0m\u001b[1;33m.\u001b[0m\u001b[0mcolumns\u001b[0m\u001b[1;33m.\u001b[0m\u001b[0mget_loc\u001b[0m\u001b[1;33m(\u001b[0m\u001b[0mkey\u001b[0m\u001b[1;33m)\u001b[0m\u001b[1;33m\u001b[0m\u001b[1;33m\u001b[0m\u001b[0m\n\u001b[0m\u001b[0;32m   2918\u001b[0m             \u001b[1;32mif\u001b[0m \u001b[0mis_integer\u001b[0m\u001b[1;33m(\u001b[0m\u001b[0mindexer\u001b[0m\u001b[1;33m)\u001b[0m\u001b[1;33m:\u001b[0m\u001b[1;33m\u001b[0m\u001b[1;33m\u001b[0m\u001b[0m\n\u001b[0;32m   2919\u001b[0m                 \u001b[0mindexer\u001b[0m \u001b[1;33m=\u001b[0m \u001b[1;33m[\u001b[0m\u001b[0mindexer\u001b[0m\u001b[1;33m]\u001b[0m\u001b[1;33m\u001b[0m\u001b[1;33m\u001b[0m\u001b[0m\n",
      "\u001b[1;32m~\\AppData\\Roaming\\Python\\Python37\\site-packages\\pandas\\core\\indexes\\base.py\u001b[0m in \u001b[0;36mget_loc\u001b[1;34m(self, key, method, tolerance)\u001b[0m\n\u001b[0;32m   2602\u001b[0m                 \u001b[1;32mreturn\u001b[0m \u001b[0mself\u001b[0m\u001b[1;33m.\u001b[0m\u001b[0m_engine\u001b[0m\u001b[1;33m.\u001b[0m\u001b[0mget_loc\u001b[0m\u001b[1;33m(\u001b[0m\u001b[0mkey\u001b[0m\u001b[1;33m)\u001b[0m\u001b[1;33m\u001b[0m\u001b[1;33m\u001b[0m\u001b[0m\n\u001b[0;32m   2603\u001b[0m             \u001b[1;32mexcept\u001b[0m \u001b[0mKeyError\u001b[0m\u001b[1;33m:\u001b[0m\u001b[1;33m\u001b[0m\u001b[1;33m\u001b[0m\u001b[0m\n\u001b[1;32m-> 2604\u001b[1;33m                 \u001b[1;32mreturn\u001b[0m \u001b[0mself\u001b[0m\u001b[1;33m.\u001b[0m\u001b[0m_engine\u001b[0m\u001b[1;33m.\u001b[0m\u001b[0mget_loc\u001b[0m\u001b[1;33m(\u001b[0m\u001b[0mself\u001b[0m\u001b[1;33m.\u001b[0m\u001b[0m_maybe_cast_indexer\u001b[0m\u001b[1;33m(\u001b[0m\u001b[0mkey\u001b[0m\u001b[1;33m)\u001b[0m\u001b[1;33m)\u001b[0m\u001b[1;33m\u001b[0m\u001b[1;33m\u001b[0m\u001b[0m\n\u001b[0m\u001b[0;32m   2605\u001b[0m         \u001b[0mindexer\u001b[0m \u001b[1;33m=\u001b[0m \u001b[0mself\u001b[0m\u001b[1;33m.\u001b[0m\u001b[0mget_indexer\u001b[0m\u001b[1;33m(\u001b[0m\u001b[1;33m[\u001b[0m\u001b[0mkey\u001b[0m\u001b[1;33m]\u001b[0m\u001b[1;33m,\u001b[0m \u001b[0mmethod\u001b[0m\u001b[1;33m=\u001b[0m\u001b[0mmethod\u001b[0m\u001b[1;33m,\u001b[0m \u001b[0mtolerance\u001b[0m\u001b[1;33m=\u001b[0m\u001b[0mtolerance\u001b[0m\u001b[1;33m)\u001b[0m\u001b[1;33m\u001b[0m\u001b[1;33m\u001b[0m\u001b[0m\n\u001b[0;32m   2606\u001b[0m         \u001b[1;32mif\u001b[0m \u001b[0mindexer\u001b[0m\u001b[1;33m.\u001b[0m\u001b[0mndim\u001b[0m \u001b[1;33m>\u001b[0m \u001b[1;36m1\u001b[0m \u001b[1;32mor\u001b[0m \u001b[0mindexer\u001b[0m\u001b[1;33m.\u001b[0m\u001b[0msize\u001b[0m \u001b[1;33m>\u001b[0m \u001b[1;36m1\u001b[0m\u001b[1;33m:\u001b[0m\u001b[1;33m\u001b[0m\u001b[1;33m\u001b[0m\u001b[0m\n",
      "\u001b[1;32mpandas\\_libs\\index.pyx\u001b[0m in \u001b[0;36mpandas._libs.index.IndexEngine.get_loc\u001b[1;34m()\u001b[0m\n",
      "\u001b[1;32mpandas\\_libs\\index.pyx\u001b[0m in \u001b[0;36mpandas._libs.index.IndexEngine.get_loc\u001b[1;34m()\u001b[0m\n",
      "\u001b[1;32mpandas\\_libs\\hashtable_class_helper.pxi\u001b[0m in \u001b[0;36mpandas._libs.hashtable.PyObjectHashTable.get_item\u001b[1;34m()\u001b[0m\n",
      "\u001b[1;32mpandas\\_libs\\hashtable_class_helper.pxi\u001b[0m in \u001b[0;36mpandas._libs.hashtable.PyObjectHashTable.get_item\u001b[1;34m()\u001b[0m\n",
      "\u001b[1;31mKeyError\u001b[0m: 'PERFORM_CNS.SCORE.DESCRIPTION'"
     ]
    }
   ],
   "source": [
    "cns = list(train_df['PERFORM_CNS.SCORE.DESCRIPTION'].unique())\n",
    "cns_score = dict(zip(cns, [i for i in range(len(cns))]))\n",
    "X_train['PERFORM_CNS.SCORE.DESCRIPTION'] = X_train['PERFORM_CNS.SCORE.DESCRIPTION'].apply(lambda x: cns_score[x])\n",
    "X_validation['PERFORM_CNS.SCORE.DESCRIPTION'] = X_validation['PERFORM_CNS.SCORE.DESCRIPTION'].apply(lambda x: cns_score[x])\n",
    "test['PERFORM_CNS.SCORE.DESCRIPTION'] = test['PERFORM_CNS.SCORE.DESCRIPTION'].apply(lambda x: cns_score[x])"
   ]
  },
  {
   "cell_type": "code",
   "execution_count": null,
   "metadata": {},
   "outputs": [],
   "source": [
    "import lightgbm as lgb\n",
    "from sklearn.metrics import auc, accuracy_score, roc_auc_score\n",
    "from sklearn.model_selection import GridSearchCV\n",
    "estimator = lgb.LGBMClassifier(learning_rate = 0.125, metric = 'l2', \n",
    "                        n_estimators = 1000, num_leaves = 38)\n",
    "\n",
    "\n",
    "param_grid = {\n",
    "#     'n_estimators': [x for x in range(20, 40, 2)],\n",
    "    'learning_rate': [0.10, 0.125, 0.15, 0.175, 0.2]}\n",
    "gridsearch = GridSearchCV(estimator, param_grid)\n",
    "\n",
    "gridsearch.fit(X_train, y_train,\n",
    "        eval_set = [(X_validation, y_validation)],\n",
    "        eval_metric = ['auc', 'binary_logloss'],\n",
    "        early_stopping_rounds = 20)\n"
   ]
  },
  {
   "cell_type": "code",
   "execution_count": 172,
   "metadata": {},
   "outputs": [
    {
     "data": {
      "text/plain": [
       "{'learning_rate': 0.2, 'n_estimators': 22}"
      ]
     },
     "execution_count": 172,
     "metadata": {},
     "output_type": "execute_result"
    }
   ],
   "source": [
    "gridsearch.best_params_"
   ]
  },
  {
   "cell_type": "code",
   "execution_count": 173,
   "metadata": {},
   "outputs": [
    {
     "name": "stdout",
     "output_type": "stream",
     "text": [
      "[1]\tvalid_0's binary_logloss: 0.516738\tvalid_0's l2: 0.167691\tvalid_0's auc: 0.621644\n",
      "Training until validation scores don't improve for 20 rounds.\n",
      "[2]\tvalid_0's binary_logloss: 0.51281\tvalid_0's l2: 0.166361\tvalid_0's auc: 0.627955\n",
      "[3]\tvalid_0's binary_logloss: 0.509624\tvalid_0's l2: 0.165273\tvalid_0's auc: 0.634432\n",
      "[4]\tvalid_0's binary_logloss: 0.507334\tvalid_0's l2: 0.1645\tvalid_0's auc: 0.637899\n",
      "[5]\tvalid_0's binary_logloss: 0.505693\tvalid_0's l2: 0.163958\tvalid_0's auc: 0.640007\n",
      "[6]\tvalid_0's binary_logloss: 0.50403\tvalid_0's l2: 0.163416\tvalid_0's auc: 0.643233\n",
      "[7]\tvalid_0's binary_logloss: 0.502643\tvalid_0's l2: 0.162962\tvalid_0's auc: 0.645681\n",
      "[8]\tvalid_0's binary_logloss: 0.501696\tvalid_0's l2: 0.162657\tvalid_0's auc: 0.64789\n",
      "[9]\tvalid_0's binary_logloss: 0.500866\tvalid_0's l2: 0.162394\tvalid_0's auc: 0.648966\n",
      "[10]\tvalid_0's binary_logloss: 0.499935\tvalid_0's l2: 0.162098\tvalid_0's auc: 0.650573\n",
      "[11]\tvalid_0's binary_logloss: 0.499356\tvalid_0's l2: 0.161902\tvalid_0's auc: 0.651641\n",
      "[12]\tvalid_0's binary_logloss: 0.498585\tvalid_0's l2: 0.161635\tvalid_0's auc: 0.653339\n",
      "[13]\tvalid_0's binary_logloss: 0.497895\tvalid_0's l2: 0.161414\tvalid_0's auc: 0.654836\n",
      "[14]\tvalid_0's binary_logloss: 0.497332\tvalid_0's l2: 0.161224\tvalid_0's auc: 0.656229\n",
      "[15]\tvalid_0's binary_logloss: 0.496898\tvalid_0's l2: 0.161077\tvalid_0's auc: 0.65717\n",
      "[16]\tvalid_0's binary_logloss: 0.496581\tvalid_0's l2: 0.160978\tvalid_0's auc: 0.657702\n",
      "[17]\tvalid_0's binary_logloss: 0.496303\tvalid_0's l2: 0.160899\tvalid_0's auc: 0.658134\n",
      "[18]\tvalid_0's binary_logloss: 0.495924\tvalid_0's l2: 0.160771\tvalid_0's auc: 0.65891\n",
      "[19]\tvalid_0's binary_logloss: 0.495553\tvalid_0's l2: 0.160653\tvalid_0's auc: 0.659755\n",
      "[20]\tvalid_0's binary_logloss: 0.495319\tvalid_0's l2: 0.160578\tvalid_0's auc: 0.660222\n",
      "[21]\tvalid_0's binary_logloss: 0.495145\tvalid_0's l2: 0.160528\tvalid_0's auc: 0.660628\n",
      "[22]\tvalid_0's binary_logloss: 0.494906\tvalid_0's l2: 0.160448\tvalid_0's auc: 0.661237\n",
      "[23]\tvalid_0's binary_logloss: 0.494743\tvalid_0's l2: 0.1604\tvalid_0's auc: 0.66151\n",
      "[24]\tvalid_0's binary_logloss: 0.494601\tvalid_0's l2: 0.160348\tvalid_0's auc: 0.661747\n",
      "[25]\tvalid_0's binary_logloss: 0.494357\tvalid_0's l2: 0.160267\tvalid_0's auc: 0.662371\n",
      "[26]\tvalid_0's binary_logloss: 0.494136\tvalid_0's l2: 0.160182\tvalid_0's auc: 0.66292\n",
      "[27]\tvalid_0's binary_logloss: 0.493945\tvalid_0's l2: 0.160119\tvalid_0's auc: 0.663391\n",
      "[28]\tvalid_0's binary_logloss: 0.493814\tvalid_0's l2: 0.160078\tvalid_0's auc: 0.663646\n",
      "[29]\tvalid_0's binary_logloss: 0.493743\tvalid_0's l2: 0.160059\tvalid_0's auc: 0.663773\n",
      "[30]\tvalid_0's binary_logloss: 0.493598\tvalid_0's l2: 0.160007\tvalid_0's auc: 0.664087\n",
      "Did not meet early stopping. Best iteration is:\n",
      "[30]\tvalid_0's binary_logloss: 0.493598\tvalid_0's l2: 0.160007\tvalid_0's auc: 0.664087\n"
     ]
    },
    {
     "data": {
      "text/plain": [
       "LGBMClassifier(boosting_type='gbdt', class_weight=None, colsample_bytree=1.0,\n",
       "        importance_type='split', learning_rate=0.2, max_depth=-1,\n",
       "        metric='l2', min_child_samples=20, min_child_weight=0.001,\n",
       "        min_split_gain=0.0, n_estimators=30, n_jobs=-1, num_leaves=31,\n",
       "        objective=None, random_state=None, reg_alpha=0.0, reg_lambda=0.0,\n",
       "        silent=True, subsample=1.0, subsample_for_bin=200000,\n",
       "        subsample_freq=0)"
      ]
     },
     "execution_count": 173,
     "metadata": {},
     "output_type": "execute_result"
    }
   ],
   "source": [
    "gbm = lgb.LGBMClassifier(learning_rate = 0.2, metric = 'l2', \n",
    "                        n_estimators = 30)\n",
    "\n",
    "\n",
    "gbm.fit(X_train, y_train,\n",
    "        eval_set=[(X_validation, y_validation)],\n",
    "        eval_metric=['auc', 'binary_logloss'],\n",
    "early_stopping_rounds=20)"
   ]
  },
  {
   "cell_type": "code",
   "execution_count": 174,
   "metadata": {},
   "outputs": [
    {
     "data": {
      "image/png": "[encoded data removed]",
      "text/plain": [
       "<Figure size 720x432 with 1 Axes>"
      ]
     },
     "metadata": {
      "needs_background": "light"
     },
     "output_type": "display_data"
    }
   ],
   "source": [
    "ax = lgb.plot_importance(gbm, height = 0.4, \n",
    "                         max_num_features = 30, \n",
    "                         xlim = (0,100), ylim = (0,30), \n",
    "                         figsize = (10,6))\n",
    "plt.show()"
   ]
  },
  {
   "cell_type": "code",
   "execution_count": 175,
   "metadata": {},
   "outputs": [
    {
     "data": {
      "text/plain": [
       "array([0.28740702, 0.26833912, 0.24161427, ..., 0.19646506, 0.31743897,\n",
       "       0.109376  ])"
      ]
     },
     "execution_count": 175,
     "metadata": {},
     "output_type": "execute_result"
    }
   ],
   "source": [
    "gbm.predict_proba(test)[:, 1]"
   ]
  },
  {
   "cell_type": "code",
   "execution_count": 176,
   "metadata": {},
   "outputs": [],
   "source": [
    "submission = pd.DataFrame()\n",
    "submission['UniqueID'] = test_df.UniqueID\n",
    "submission['loan_default'] = list(gbm.predict_proba(test)[:, 1])\n",
    "submission.to_csv('submission_lgbm_19_4.csv', index=False)"
   ]
  },
  {
   "cell_type": "markdown",
   "metadata": {},
   "source": [
    "### Remove features and again train"
   ]
  },
  {
   "cell_type": "code",
   "execution_count": 115,
   "metadata": {},
   "outputs": [
    {
     "data": {
      "text/plain": [
       "Index(['Current_pincode_ID', 'ltv', 'DisbursalDate', 'PERFORM_CNS.SCORE',\n",
       "       'supplier_id', 'disbursed_amount', 'Date.of.Birth', 'branch_id',\n",
       "       'State_ID', 'CREDIT.HISTORY.LENGTH', 'Employee_code_ID',\n",
       "       'PRI.NO.OF.ACCTS', 'PRIMARY.INSTAL.AMT', 'manufacturer_id',\n",
       "       'PRI.SANCTIONED.AMOUNT', 'NO.OF_INQUIRIES', 'Employment.Type',\n",
       "       'AVERAGE.ACCT.AGE', 'DELINQUENT.ACCTS.IN.LAST.SIX.MONTHS',\n",
       "       'PRI.OVERDUE.ACCTS', 'asset_cost', 'PRI.CURRENT.BALANCE',\n",
       "       'PRI.ACTIVE.ACCTS', 'PRI.DISBURSED.AMOUNT',\n",
       "       'NEW.ACCTS.IN.LAST.SIX.MONTHS', 'PERFORM_CNS.SCORE.DESCRIPTION',\n",
       "       'combined_flag'],\n",
       "      dtype='object')"
      ]
     },
     "execution_count": 115,
     "metadata": {},
     "output_type": "execute_result"
    }
   ],
   "source": [
    "X_train.columns"
   ]
  },
  {
   "cell_type": "markdown",
   "metadata": {},
   "source": [
    "### take only top 25 important features"
   ]
  },
  {
   "cell_type": "code",
   "execution_count": 62,
   "metadata": {},
   "outputs": [],
   "source": [
    "X_train = X_train[['Current_pincode_ID', 'ltv','DisbursalDate','PERFORM_CNS.SCORE','supplier_id', 'disbursed_amount','Date.of.Birth','branch_id','State_ID',\n",
    "'CREDIT.HISTORY.LENGTH','Employee_code_ID', 'PRI.NO.OF.ACCTS','PRIMARY.INSTAL.AMT', 'manufacturer_id','PRI.SANCTIONED.AMOUNT','NO.OF_INQUIRIES',\n",
    "'Employment.Type','AVERAGE.ACCT.AGE','DELINQUENT.ACCTS.IN.LAST.SIX.MONTHS', 'PRI.OVERDUE.ACCTS','asset_cost','PRI.CURRENT.BALANCE',\n",
    "'PRI.ACTIVE.ACCTS',  'PRI.DISBURSED.AMOUNT','NEW.ACCTS.IN.LAST.SIX.MONTHS','PERFORM_CNS.SCORE.DESCRIPTION', 'combined_flag']]\n",
    "X_validation = X_validation[['Current_pincode_ID', 'ltv','DisbursalDate','PERFORM_CNS.SCORE','supplier_id', 'disbursed_amount','Date.of.Birth','branch_id','State_ID',\n",
    "'CREDIT.HISTORY.LENGTH','Employee_code_ID', 'PRI.NO.OF.ACCTS','PRIMARY.INSTAL.AMT', 'manufacturer_id','PRI.SANCTIONED.AMOUNT','NO.OF_INQUIRIES',\n",
    "'Employment.Type','AVERAGE.ACCT.AGE','DELINQUENT.ACCTS.IN.LAST.SIX.MONTHS', 'PRI.OVERDUE.ACCTS','asset_cost','PRI.CURRENT.BALANCE',\n",
    "'PRI.ACTIVE.ACCTS',  'PRI.DISBURSED.AMOUNT','NEW.ACCTS.IN.LAST.SIX.MONTHS','PERFORM_CNS.SCORE.DESCRIPTION', 'combined_flag']]\n",
    "test=test[['Current_pincode_ID', 'ltv','DisbursalDate','PERFORM_CNS.SCORE','supplier_id', 'disbursed_amount','Date.of.Birth','branch_id','State_ID',\n",
    "'CREDIT.HISTORY.LENGTH','Employee_code_ID', 'PRI.NO.OF.ACCTS','PRIMARY.INSTAL.AMT', 'manufacturer_id','PRI.SANCTIONED.AMOUNT','NO.OF_INQUIRIES',\n",
    "'Employment.Type','AVERAGE.ACCT.AGE','DELINQUENT.ACCTS.IN.LAST.SIX.MONTHS', 'PRI.OVERDUE.ACCTS','asset_cost','PRI.CURRENT.BALANCE',\n",
    "'PRI.ACTIVE.ACCTS',  'PRI.DISBURSED.AMOUNT','NEW.ACCTS.IN.LAST.SIX.MONTHS','PERFORM_CNS.SCORE.DESCRIPTION', 'combined_flag']]"
   ]
  },
  {
   "cell_type": "code",
   "execution_count": null,
   "metadata": {},
   "outputs": [],
   "source": [
    "reduc_estimator = lgb.LGBMClassifier(learning_rate = 0.125, metric = 'l1', \n",
    "                        n_estimators = 20, num_leaves = 40)\n",
    "\n",
    "# Parameter grid for hyperparameter tuning\n",
    "param_grid = {\n",
    "    'metric':['l1', 'l2'],\n",
    "    'n_estimators': [x for x in range(20, 40, 2)],\n",
    "    'learning_rate': [0.10, 0.125, 0.15, 0.175, 0.18, .2]}\n",
    "\n",
    "gridsearch = GridSearchCV(reduc_estimator, param_grid)\n",
    "\n",
    "gridsearch.fit(X_train, y_train,\n",
    "        eval_set = [(X_validation, y_validation)],\n",
    "        eval_metric = ['auc', 'binary_logloss'],\n",
    "        early_stopping_rounds = 20)\n",
    "print('Best parameters found by grid search are:', gridsearch.best_params_)"
   ]
  },
  {
   "cell_type": "code",
   "execution_count": 180,
   "metadata": {},
   "outputs": [
    {
     "name": "stdout",
     "output_type": "stream",
     "text": [
      "[1]\tvalid_0's l2: 0.167821\tvalid_0's auc: 0.624448\n",
      "Training until validation scores don't improve for 100 rounds.\n",
      "[2]\tvalid_0's l2: 0.166489\tvalid_0's auc: 0.632733\n",
      "[3]\tvalid_0's l2: 0.165411\tvalid_0's auc: 0.637309\n",
      "[4]\tvalid_0's l2: 0.164647\tvalid_0's auc: 0.639696\n",
      "[5]\tvalid_0's l2: 0.1641\tvalid_0's auc: 0.640842\n",
      "[6]\tvalid_0's l2: 0.163561\tvalid_0's auc: 0.64305\n",
      "[7]\tvalid_0's l2: 0.163068\tvalid_0's auc: 0.646271\n",
      "[8]\tvalid_0's l2: 0.162686\tvalid_0's auc: 0.64806\n",
      "[9]\tvalid_0's l2: 0.162404\tvalid_0's auc: 0.649602\n",
      "[10]\tvalid_0's l2: 0.16217\tvalid_0's auc: 0.65064\n",
      "[11]\tvalid_0's l2: 0.161955\tvalid_0's auc: 0.651636\n",
      "[12]\tvalid_0's l2: 0.161682\tvalid_0's auc: 0.653153\n",
      "[13]\tvalid_0's l2: 0.161521\tvalid_0's auc: 0.65396\n",
      "[14]\tvalid_0's l2: 0.161407\tvalid_0's auc: 0.654564\n",
      "[15]\tvalid_0's l2: 0.161249\tvalid_0's auc: 0.655554\n",
      "[16]\tvalid_0's l2: 0.161122\tvalid_0's auc: 0.656122\n",
      "[17]\tvalid_0's l2: 0.160992\tvalid_0's auc: 0.656981\n",
      "[18]\tvalid_0's l2: 0.160876\tvalid_0's auc: 0.657616\n",
      "[19]\tvalid_0's l2: 0.160814\tvalid_0's auc: 0.657985\n",
      "[20]\tvalid_0's l2: 0.160701\tvalid_0's auc: 0.658715\n",
      "[21]\tvalid_0's l2: 0.16066\tvalid_0's auc: 0.658929\n",
      "[22]\tvalid_0's l2: 0.160536\tvalid_0's auc: 0.659823\n",
      "[23]\tvalid_0's l2: 0.160486\tvalid_0's auc: 0.660155\n",
      "[24]\tvalid_0's l2: 0.160415\tvalid_0's auc: 0.660665\n",
      "[25]\tvalid_0's l2: 0.160377\tvalid_0's auc: 0.660993\n",
      "[26]\tvalid_0's l2: 0.160316\tvalid_0's auc: 0.661498\n",
      "[27]\tvalid_0's l2: 0.160324\tvalid_0's auc: 0.661437\n",
      "[28]\tvalid_0's l2: 0.160289\tvalid_0's auc: 0.661669\n",
      "[29]\tvalid_0's l2: 0.160253\tvalid_0's auc: 0.6619\n",
      "[30]\tvalid_0's l2: 0.160235\tvalid_0's auc: 0.662076\n",
      "[31]\tvalid_0's l2: 0.160208\tvalid_0's auc: 0.662225\n",
      "[32]\tvalid_0's l2: 0.16017\tvalid_0's auc: 0.662522\n",
      "[33]\tvalid_0's l2: 0.160141\tvalid_0's auc: 0.662838\n",
      "[34]\tvalid_0's l2: 0.160116\tvalid_0's auc: 0.662977\n",
      "[35]\tvalid_0's l2: 0.160138\tvalid_0's auc: 0.66285\n",
      "[36]\tvalid_0's l2: 0.160126\tvalid_0's auc: 0.66296\n",
      "[37]\tvalid_0's l2: 0.160137\tvalid_0's auc: 0.662867\n",
      "[38]\tvalid_0's l2: 0.160134\tvalid_0's auc: 0.662979\n",
      "[39]\tvalid_0's l2: 0.160087\tvalid_0's auc: 0.663362\n",
      "[40]\tvalid_0's l2: 0.160109\tvalid_0's auc: 0.663238\n",
      "[41]\tvalid_0's l2: 0.160113\tvalid_0's auc: 0.663154\n",
      "[42]\tvalid_0's l2: 0.160101\tvalid_0's auc: 0.663124\n",
      "[43]\tvalid_0's l2: 0.160099\tvalid_0's auc: 0.663069\n",
      "[44]\tvalid_0's l2: 0.160058\tvalid_0's auc: 0.663308\n",
      "[45]\tvalid_0's l2: 0.160042\tvalid_0's auc: 0.66341\n",
      "[46]\tvalid_0's l2: 0.160044\tvalid_0's auc: 0.663482\n",
      "[47]\tvalid_0's l2: 0.160057\tvalid_0's auc: 0.66332\n",
      "[48]\tvalid_0's l2: 0.160065\tvalid_0's auc: 0.663288\n",
      "[49]\tvalid_0's l2: 0.160053\tvalid_0's auc: 0.663368\n",
      "[50]\tvalid_0's l2: 0.160003\tvalid_0's auc: 0.663706\n",
      "[51]\tvalid_0's l2: 0.160001\tvalid_0's auc: 0.66373\n",
      "[52]\tvalid_0's l2: 0.160009\tvalid_0's auc: 0.663649\n",
      "[53]\tvalid_0's l2: 0.159995\tvalid_0's auc: 0.663805\n",
      "[54]\tvalid_0's l2: 0.159985\tvalid_0's auc: 0.66385\n",
      "[55]\tvalid_0's l2: 0.159978\tvalid_0's auc: 0.663876\n",
      "[56]\tvalid_0's l2: 0.159985\tvalid_0's auc: 0.663827\n",
      "[57]\tvalid_0's l2: 0.160001\tvalid_0's auc: 0.663715\n",
      "[58]\tvalid_0's l2: 0.160004\tvalid_0's auc: 0.663624\n",
      "[59]\tvalid_0's l2: 0.159977\tvalid_0's auc: 0.663883\n",
      "[60]\tvalid_0's l2: 0.159965\tvalid_0's auc: 0.663975\n",
      "[61]\tvalid_0's l2: 0.159939\tvalid_0's auc: 0.664122\n",
      "[62]\tvalid_0's l2: 0.159952\tvalid_0's auc: 0.663915\n",
      "[63]\tvalid_0's l2: 0.15995\tvalid_0's auc: 0.663914\n",
      "[64]\tvalid_0's l2: 0.159947\tvalid_0's auc: 0.663914\n",
      "[65]\tvalid_0's l2: 0.159944\tvalid_0's auc: 0.663947\n",
      "[66]\tvalid_0's l2: 0.15996\tvalid_0's auc: 0.663898\n",
      "[67]\tvalid_0's l2: 0.159943\tvalid_0's auc: 0.664004\n",
      "[68]\tvalid_0's l2: 0.159948\tvalid_0's auc: 0.663946\n",
      "[69]\tvalid_0's l2: 0.15996\tvalid_0's auc: 0.663882\n",
      "[70]\tvalid_0's l2: 0.159963\tvalid_0's auc: 0.663853\n",
      "[71]\tvalid_0's l2: 0.159988\tvalid_0's auc: 0.66374\n",
      "[72]\tvalid_0's l2: 0.159972\tvalid_0's auc: 0.663878\n",
      "[73]\tvalid_0's l2: 0.159985\tvalid_0's auc: 0.663801\n",
      "[74]\tvalid_0's l2: 0.159984\tvalid_0's auc: 0.663965\n",
      "[75]\tvalid_0's l2: 0.159994\tvalid_0's auc: 0.663916\n",
      "[76]\tvalid_0's l2: 0.159995\tvalid_0's auc: 0.663899\n",
      "[77]\tvalid_0's l2: 0.159997\tvalid_0's auc: 0.663739\n",
      "[78]\tvalid_0's l2: 0.159987\tvalid_0's auc: 0.663852\n",
      "[79]\tvalid_0's l2: 0.159992\tvalid_0's auc: 0.663842\n",
      "[80]\tvalid_0's l2: 0.159997\tvalid_0's auc: 0.663737\n",
      "[81]\tvalid_0's l2: 0.159992\tvalid_0's auc: 0.663732\n",
      "[82]\tvalid_0's l2: 0.159988\tvalid_0's auc: 0.663784\n",
      "[83]\tvalid_0's l2: 0.160004\tvalid_0's auc: 0.663765\n",
      "[84]\tvalid_0's l2: 0.159999\tvalid_0's auc: 0.663802\n",
      "[85]\tvalid_0's l2: 0.159993\tvalid_0's auc: 0.663862\n",
      "[86]\tvalid_0's l2: 0.160007\tvalid_0's auc: 0.663676\n",
      "[87]\tvalid_0's l2: 0.160012\tvalid_0's auc: 0.663648\n",
      "[88]\tvalid_0's l2: 0.16003\tvalid_0's auc: 0.663477\n",
      "[89]\tvalid_0's l2: 0.160042\tvalid_0's auc: 0.663439\n",
      "[90]\tvalid_0's l2: 0.160036\tvalid_0's auc: 0.663508\n",
      "[91]\tvalid_0's l2: 0.160055\tvalid_0's auc: 0.663362\n",
      "[92]\tvalid_0's l2: 0.160046\tvalid_0's auc: 0.663422\n",
      "[93]\tvalid_0's l2: 0.160061\tvalid_0's auc: 0.663306\n",
      "[94]\tvalid_0's l2: 0.160051\tvalid_0's auc: 0.663434\n",
      "[95]\tvalid_0's l2: 0.160056\tvalid_0's auc: 0.663415\n",
      "[96]\tvalid_0's l2: 0.160055\tvalid_0's auc: 0.663405\n",
      "[97]\tvalid_0's l2: 0.160054\tvalid_0's auc: 0.663418\n",
      "[98]\tvalid_0's l2: 0.160051\tvalid_0's auc: 0.663493\n",
      "[99]\tvalid_0's l2: 0.16008\tvalid_0's auc: 0.663354\n",
      "[100]\tvalid_0's l2: 0.160096\tvalid_0's auc: 0.663203\n",
      "[101]\tvalid_0's l2: 0.160086\tvalid_0's auc: 0.663191\n",
      "[102]\tvalid_0's l2: 0.160075\tvalid_0's auc: 0.663303\n",
      "[103]\tvalid_0's l2: 0.160092\tvalid_0's auc: 0.663176\n",
      "[104]\tvalid_0's l2: 0.160092\tvalid_0's auc: 0.663159\n",
      "[105]\tvalid_0's l2: 0.160098\tvalid_0's auc: 0.663068\n",
      "[106]\tvalid_0's l2: 0.160102\tvalid_0's auc: 0.663035\n",
      "[107]\tvalid_0's l2: 0.160101\tvalid_0's auc: 0.66314\n",
      "[108]\tvalid_0's l2: 0.16011\tvalid_0's auc: 0.663142\n",
      "[109]\tvalid_0's l2: 0.160114\tvalid_0's auc: 0.663193\n",
      "[110]\tvalid_0's l2: 0.160114\tvalid_0's auc: 0.663278\n",
      "[111]\tvalid_0's l2: 0.160132\tvalid_0's auc: 0.663171\n",
      "[112]\tvalid_0's l2: 0.160131\tvalid_0's auc: 0.663127\n",
      "[113]\tvalid_0's l2: 0.160149\tvalid_0's auc: 0.663067\n",
      "[114]\tvalid_0's l2: 0.160141\tvalid_0's auc: 0.663129\n",
      "[115]\tvalid_0's l2: 0.160147\tvalid_0's auc: 0.663107\n",
      "[116]\tvalid_0's l2: 0.160144\tvalid_0's auc: 0.663111\n",
      "[117]\tvalid_0's l2: 0.160164\tvalid_0's auc: 0.66299\n",
      "[118]\tvalid_0's l2: 0.160159\tvalid_0's auc: 0.662994\n",
      "[119]\tvalid_0's l2: 0.160174\tvalid_0's auc: 0.662975\n",
      "[120]\tvalid_0's l2: 0.160165\tvalid_0's auc: 0.663041\n",
      "[121]\tvalid_0's l2: 0.160168\tvalid_0's auc: 0.663053\n",
      "[122]\tvalid_0's l2: 0.160161\tvalid_0's auc: 0.663059\n",
      "[123]\tvalid_0's l2: 0.16016\tvalid_0's auc: 0.663128\n",
      "[124]\tvalid_0's l2: 0.160162\tvalid_0's auc: 0.663156\n",
      "[125]\tvalid_0's l2: 0.160141\tvalid_0's auc: 0.663329\n",
      "[126]\tvalid_0's l2: 0.160126\tvalid_0's auc: 0.663446\n",
      "[127]\tvalid_0's l2: 0.160116\tvalid_0's auc: 0.663481\n",
      "[128]\tvalid_0's l2: 0.160134\tvalid_0's auc: 0.663407\n",
      "[129]\tvalid_0's l2: 0.160123\tvalid_0's auc: 0.663509\n",
      "[130]\tvalid_0's l2: 0.160126\tvalid_0's auc: 0.663463\n",
      "[131]\tvalid_0's l2: 0.160122\tvalid_0's auc: 0.66351\n",
      "[132]\tvalid_0's l2: 0.160138\tvalid_0's auc: 0.663403\n",
      "[133]\tvalid_0's l2: 0.160155\tvalid_0's auc: 0.663309\n",
      "[134]\tvalid_0's l2: 0.160164\tvalid_0's auc: 0.663233\n",
      "[135]\tvalid_0's l2: 0.160183\tvalid_0's auc: 0.663075\n",
      "[136]\tvalid_0's l2: 0.160213\tvalid_0's auc: 0.662856\n",
      "[137]\tvalid_0's l2: 0.16022\tvalid_0's auc: 0.66291\n",
      "[138]\tvalid_0's l2: 0.160212\tvalid_0's auc: 0.663011\n",
      "[139]\tvalid_0's l2: 0.160199\tvalid_0's auc: 0.663051\n",
      "[140]\tvalid_0's l2: 0.160197\tvalid_0's auc: 0.663089\n",
      "[141]\tvalid_0's l2: 0.160215\tvalid_0's auc: 0.662901\n",
      "[142]\tvalid_0's l2: 0.160221\tvalid_0's auc: 0.662844\n",
      "[143]\tvalid_0's l2: 0.160217\tvalid_0's auc: 0.662879\n",
      "[144]\tvalid_0's l2: 0.160226\tvalid_0's auc: 0.662818\n",
      "[145]\tvalid_0's l2: 0.160216\tvalid_0's auc: 0.662904\n",
      "[146]\tvalid_0's l2: 0.160218\tvalid_0's auc: 0.662908\n",
      "[147]\tvalid_0's l2: 0.160221\tvalid_0's auc: 0.662948\n",
      "[148]\tvalid_0's l2: 0.160215\tvalid_0's auc: 0.663021\n",
      "[149]\tvalid_0's l2: 0.160213\tvalid_0's auc: 0.663038\n",
      "[150]\tvalid_0's l2: 0.160194\tvalid_0's auc: 0.663131\n",
      "[151]\tvalid_0's l2: 0.160212\tvalid_0's auc: 0.663067\n",
      "[152]\tvalid_0's l2: 0.160215\tvalid_0's auc: 0.663034\n",
      "[153]\tvalid_0's l2: 0.160223\tvalid_0's auc: 0.662969\n",
      "[154]\tvalid_0's l2: 0.160208\tvalid_0's auc: 0.663103\n",
      "[155]\tvalid_0's l2: 0.160204\tvalid_0's auc: 0.663098\n",
      "[156]\tvalid_0's l2: 0.160213\tvalid_0's auc: 0.66307\n",
      "[157]\tvalid_0's l2: 0.160206\tvalid_0's auc: 0.663114\n",
      "[158]\tvalid_0's l2: 0.1602\tvalid_0's auc: 0.663138\n",
      "[159]\tvalid_0's l2: 0.160201\tvalid_0's auc: 0.663106\n",
      "[160]\tvalid_0's l2: 0.160216\tvalid_0's auc: 0.663071\n",
      "[161]\tvalid_0's l2: 0.160207\tvalid_0's auc: 0.663156\n",
      "Early stopping, best iteration is:\n",
      "[61]\tvalid_0's l2: 0.159939\tvalid_0's auc: 0.664122\n"
     ]
    },
    {
     "data": {
      "text/plain": [
       "LGBMClassifier(boosting_type='gbdt', class_weight=None, colsample_bytree=1.0,\n",
       "        importance_type='split', learning_rate=0.175, max_depth=-1,\n",
       "        metric='l2', min_child_samples=20, min_child_weight=0.001,\n",
       "        min_split_gain=0.0, n_estimators=1000, n_jobs=-1, num_leaves=40,\n",
       "        objective=None, random_state=None, reg_alpha=0.0, reg_lambda=0.0,\n",
       "        silent=True, subsample=1.0, subsample_for_bin=200000,\n",
       "        subsample_freq=0)"
      ]
     },
     "execution_count": 180,
     "metadata": {},
     "output_type": "execute_result"
    }
   ],
   "source": [
    "gbm = lgb.LGBMClassifier(learning_rate = 0.175, metric = 'l2', \n",
    "                        n_estimators = 1000, num_leaves = 40)\n",
    "gbm.fit(X_train, y_train,\n",
    "        eval_set=[(X_validation, y_validation)],\n",
    "        eval_metric=['auc'],\n",
    "early_stopping_rounds=100)"
   ]
  },
  {
   "cell_type": "code",
   "execution_count": 167,
   "metadata": {},
   "outputs": [],
   "source": [
    "submission = pd.DataFrame()\n",
    "submission['UniqueID'] = test_df.UniqueID\n",
    "submission['loan_default'] = list(gbm.predict_proba(test)[:, 1])\n",
    "submission.to_csv('submission_lgbm_18_gbm.csv', index=False)"
   ]
  },
  {
   "cell_type": "markdown",
   "metadata": {},
   "source": [
    "### Accuracy on validation set"
   ]
  },
  {
   "cell_type": "code",
   "execution_count": 179,
   "metadata": {},
   "outputs": [
    {
     "name": "stdout",
     "output_type": "stream",
     "text": [
      "The accuracy of prediction is: 0.7844125120476649\n",
      "The roc_auc_score of prediction is: 0.5055355513184033\n",
      "The null acccuracy is: 0.7833610794707789\n"
     ]
    }
   ],
   "source": [
    "y_pred = gbm.predict(X_validation, num_iteration=gbm.best_iteration_)\n",
    "print('The accuracy of prediction is:', accuracy_score(y_validation, y_pred))\n",
    "print('The roc_auc_score of prediction is:', roc_auc_score(y_validation, y_pred))\n",
    "print('The null acccuracy is:', max(y_validation.mean(), 1 - y_validation.mean()))"
   ]
  },
  {
   "cell_type": "code",
   "execution_count": null,
   "metadata": {},
   "outputs": [],
   "source": []
  }
 ],
 "metadata": {
  "kernelspec": {
   "display_name": "Python 3",
   "language": "python",
   "name": "python3"
  },
  "language_info": {
   "codemirror_mode": {
    "name": "ipython",
    "version": 3
   },
   "file_extension": ".py",
   "mimetype": "text/x-python",
   "name": "python",
   "nbconvert_exporter": "python",
   "pygments_lexer": "ipython3",
   "version": "3.7.1"
  }
 },
 "nbformat": 4,
 "nbformat_minor": 2
}
